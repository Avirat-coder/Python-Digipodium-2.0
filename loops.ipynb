{
 "cells": [
  {
   "cell_type": "code",
   "execution_count": 3,
   "id": "b8ed7b17",
   "metadata": {},
   "outputs": [
    {
     "name": "stdout",
     "output_type": "stream",
     "text": [
      "apple\n",
      "banana\n",
      "cherry\n",
      "mango\n",
      "orange\n"
     ]
    }
   ],
   "source": [
    "fruits=['apple','banana','cherry','mango','orange']\n",
    "for X in fruits:\n",
    "    print(X)"
   ]
  },
  {
   "cell_type": "code",
   "execution_count": null,
   "id": "b8664cc1",
   "metadata": {},
   "outputs": [
    {
     "name": "stdout",
     "output_type": "stream",
     "text": [
      "apple  banana  cherry  mango  orange  "
     ]
    }
   ],
   "source": [
    "fruits=['apple','banana','cherry','mango','orange'] #Horizontal \n",
    "\n",
    "for X in fruits:\n",
    "    print(X,end=\"  \")\n",
    "        "
   ]
  },
  {
   "cell_type": "code",
   "execution_count": 1,
   "id": "bf1e69ca",
   "metadata": {},
   "outputs": [
    {
     "name": "stdout",
     "output_type": "stream",
     "text": [
      "0\n",
      "1\n",
      "2\n",
      "3\n",
      "4\n"
     ]
    }
   ],
   "source": [
    "for X in range(5):\n",
    "    print(X)"
   ]
  },
  {
   "cell_type": "code",
   "execution_count": 3,
   "id": "66097acc",
   "metadata": {},
   "outputs": [
    {
     "name": "stdout",
     "output_type": "stream",
     "text": [
      "1\n",
      "2\n",
      "3\n",
      "4\n",
      "5\n",
      "6\n",
      "7\n",
      "8\n",
      "9\n",
      "10\n"
     ]
    }
   ],
   "source": [
    "for X in range(1,11):\n",
    "    print(X)\n"
   ]
  },
  {
   "cell_type": "code",
   "execution_count": 28,
   "id": "78e22367",
   "metadata": {},
   "outputs": [
    {
     "name": "stdout",
     "output_type": "stream",
     "text": [
      "1\n",
      "3\n",
      "5\n",
      "7\n",
      "9\n",
      "11\n",
      "13\n",
      "15\n",
      "17\n",
      "19\n"
     ]
    }
   ],
   "source": [
    "for X in range(1,20,2):\n",
    "    print(X)"
   ]
  },
  {
   "cell_type": "code",
   "execution_count": 21,
   "id": "564c868f",
   "metadata": {},
   "outputs": [
    {
     "name": "stdout",
     "output_type": "stream",
     "text": [
      "Avirat\n",
      "Avirat\n",
      "Avirat\n",
      "Avirat\n",
      "Avirat\n",
      "Avirat\n",
      "Avirat\n",
      "Avirat\n",
      "Avirat\n",
      "Avirat\n"
     ]
    }
   ],
   "source": [
    "name=input(\"Enter the name\")\n",
    "for i in range(10):\n",
    "    print(name)"
   ]
  },
  {
   "cell_type": "code",
   "execution_count": 42,
   "id": "d2946af1",
   "metadata": {},
   "outputs": [
    {
     "name": "stdout",
     "output_type": "stream",
     "text": [
      "0\n",
      "1\n",
      "2\n",
      "3\n",
      "4\n",
      "5\n"
     ]
    }
   ],
   "source": [
    "i=0\n",
    "while(i<=5):\n",
    "    print(i)\n",
    "    i+=1    "
   ]
  },
  {
   "cell_type": "code",
   "execution_count": 54,
   "id": "909e6281",
   "metadata": {},
   "outputs": [
    {
     "name": "stdout",
     "output_type": "stream",
     "text": [
      "2\n",
      "4\n",
      "6\n",
      "8\n",
      "10\n",
      "12\n",
      "14\n",
      "16\n",
      "18\n"
     ]
    }
   ],
   "source": [
    "for x in range(2,20,2):\n",
    "    print(x)"
   ]
  },
  {
   "cell_type": "code",
   "execution_count": 59,
   "id": "408f437c",
   "metadata": {},
   "outputs": [
    {
     "name": "stdout",
     "output_type": "stream",
     "text": [
      "1\n",
      "\n",
      "3\n",
      "\n",
      "5\n",
      "\n",
      "7\n",
      "\n",
      "9\n",
      "\n",
      "11\n",
      "\n",
      "13\n",
      "\n",
      "15\n",
      "\n",
      "17\n",
      "\n",
      "19\n"
     ]
    }
   ],
   "source": [
    "for X in range(1,20):\n",
    "    if(X%2==0):\n",
    "        print(\"\")\n",
    "    else:\n",
    "        print(X)\n"
   ]
  },
  {
   "cell_type": "code",
   "execution_count": 62,
   "id": "b632b1fe",
   "metadata": {},
   "outputs": [
    {
     "name": "stdout",
     "output_type": "stream",
     "text": [
      "apple\n",
      "banana\n",
      "cherry\n",
      "mango\n"
     ]
    }
   ],
   "source": [
    "fruits=[\"apple\",\"banana\",\"cherry\",\"mango\",\"ladyfinger\",\"orange\",\"grapes\",\"kiwi\"]\n",
    "for i in fruits:\n",
    "    if i==\"ladyfinger\":\n",
    "        break\n",
    "    print(i)"
   ]
  },
  {
   "cell_type": "code",
   "execution_count": 63,
   "id": "cd38667a",
   "metadata": {},
   "outputs": [
    {
     "name": "stdout",
     "output_type": "stream",
     "text": [
      "apple\n",
      "banana\n",
      "cherry\n",
      "mango\n",
      "orange\n",
      "grapes\n",
      "kiwi\n"
     ]
    }
   ],
   "source": [
    "fruits=[\"apple\",\"banana\",\"cherry\",\"mango\",\"ladyfinger\",\"orange\",\"grapes\",\"kiwi\"]\n",
    "for i in fruits:\n",
    "    if i==\"ladyfinger\":\n",
    "        continue\n",
    "    print(i)"
   ]
  }
 ],
 "metadata": {
  "kernelspec": {
   "display_name": "base",
   "language": "python",
   "name": "python3"
  },
  "language_info": {
   "codemirror_mode": {
    "name": "ipython",
    "version": 3
   },
   "file_extension": ".py",
   "mimetype": "text/x-python",
   "name": "python",
   "nbconvert_exporter": "python",
   "pygments_lexer": "ipython3",
   "version": "3.12.9"
  }
 },
 "nbformat": 4,
 "nbformat_minor": 5
}
