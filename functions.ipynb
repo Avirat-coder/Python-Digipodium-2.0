{
 "cells": [
  {
   "cell_type": "markdown",
   "id": "4b77d4dd",
   "metadata": {},
   "source": [
    "# NON PARAMETERIZED FUNCTION"
   ]
  },
  {
   "cell_type": "code",
   "execution_count": 9,
   "id": "f4c1559a",
   "metadata": {},
   "outputs": [],
   "source": [
    "def greet(): #function initialization\n",
    "    print(\"Hello World\")\n",
    "    print(\"Welcome To Python Programming\")\n",
    "    print(\"Have a great day\")"
   ]
  },
  {
   "cell_type": "code",
   "execution_count": null,
   "id": "caa0045a",
   "metadata": {},
   "outputs": [
    {
     "name": "stdout",
     "output_type": "stream",
     "text": [
      "Hello World\n",
      "Welcome To Python Programming\n",
      "Have a great day\n"
     ]
    }
   ],
   "source": [
    "greet() #function calling"
   ]
  },
  {
   "cell_type": "code",
   "execution_count": null,
   "id": "fd7cef65",
   "metadata": {},
   "outputs": [
    {
     "name": "stdout",
     "output_type": "stream",
     "text": [
      "30\n"
     ]
    }
   ],
   "source": [
    "def sum(a,b): #parameter\n",
    "    print(a+b)"
   ]
  },
  {
   "cell_type": "code",
   "execution_count": 15,
   "id": "1913ef30",
   "metadata": {},
   "outputs": [
    {
     "name": "stdout",
     "output_type": "stream",
     "text": [
      "30\n"
     ]
    }
   ],
   "source": [
    "sum(10,20)"
   ]
  },
  {
   "cell_type": "markdown",
   "id": "d71bda27",
   "metadata": {},
   "source": [
    "# Non Return Function"
   ]
  },
  {
   "cell_type": "code",
   "execution_count": 4,
   "id": "0deba5b3",
   "metadata": {},
   "outputs": [
    {
     "name": "stdout",
     "output_type": "stream",
     "text": [
      "15.0\n",
      "None\n"
     ]
    }
   ],
   "source": [
    "def average(a,b):\n",
    "    print((a+b)/2)\n",
    "avg=average(10,20)\n",
    "print(avg)\n"
   ]
  },
  {
   "cell_type": "code",
   "execution_count": 43,
   "id": "0a8a3936",
   "metadata": {},
   "outputs": [
    {
     "name": "stdout",
     "output_type": "stream",
     "text": [
      "15.0\n"
     ]
    }
   ],
   "source": [
    "def average(a,b):\n",
    "    return ((a+b)/2)\n",
    "\n",
    "a=average(10,20)\n",
    "print(a)"
   ]
  },
  {
   "cell_type": "code",
   "execution_count": null,
   "id": "bc254791",
   "metadata": {},
   "outputs": [
    {
     "name": "stdout",
     "output_type": "stream",
     "text": [
      "24 is even\n"
     ]
    }
   ],
   "source": [
    "def even_odd(x):\n",
    "    if(x%2==0):\n",
    "        return(f\"{x} is even\")\n",
    "    else:\n",
    "        return(f\"{x} is odd\")    \n",
    "b=even_odd(24)\n",
    "print(b)        "
   ]
  },
  {
   "cell_type": "code",
   "execution_count": 54,
   "id": "bd757b96",
   "metadata": {},
   "outputs": [
    {
     "name": "stdout",
     "output_type": "stream",
     "text": [
      "I am from  USA\n",
      "I am from  India\n",
      "I am from  Australia\n",
      "I am from  India\n"
     ]
    }
   ],
   "source": [
    "def myCountry(country=\"India\"):\n",
    "    print(\"I am from  \" + country)\n",
    "myCountry(\"USA\")\n",
    "myCountry(\"India\")\n",
    "myCountry(\"Australia\")\n",
    "myCountry()\n",
    "    \n"
   ]
  },
  {
   "cell_type": "code",
   "execution_count": null,
   "id": "72ea1cd9",
   "metadata": {},
   "outputs": [
    {
     "name": "stdout",
     "output_type": "stream",
     "text": [
      "625\n"
     ]
    },
    {
     "data": {
      "text/plain": [
       "function"
      ]
     },
     "execution_count": 56,
     "metadata": {},
     "output_type": "execute_result"
    }
   ],
   "source": [
    "# lambda function\n",
    "square=lambda x:x**2\n",
    "print(square(25))"
   ]
  }
 ],
 "metadata": {
  "kernelspec": {
   "display_name": "base",
   "language": "python",
   "name": "python3"
  },
  "language_info": {
   "codemirror_mode": {
    "name": "ipython",
    "version": 3
   },
   "file_extension": ".py",
   "mimetype": "text/x-python",
   "name": "python",
   "nbconvert_exporter": "python",
   "pygments_lexer": "ipython3",
   "version": "3.12.9"
  }
 },
 "nbformat": 4,
 "nbformat_minor": 5
}
