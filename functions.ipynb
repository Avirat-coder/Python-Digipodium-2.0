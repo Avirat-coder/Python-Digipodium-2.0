{
 "cells": [
  {
   "cell_type": "markdown",
   "id": "4b77d4dd",
   "metadata": {},
   "source": [
    "# NON PARAMETERIZED FUNCTION"
   ]
  },
  {
   "cell_type": "code",
   "execution_count": 9,
   "id": "f4c1559a",
   "metadata": {},
   "outputs": [],
   "source": [
    "def greet(): #function initialization\n",
    "    print(\"Hello World\")\n",
    "    print(\"Welcome To Python Programming\")\n",
    "    print(\"Have a great day\")"
   ]
  },
  {
   "cell_type": "code",
   "execution_count": null,
   "id": "caa0045a",
   "metadata": {},
   "outputs": [
    {
     "name": "stdout",
     "output_type": "stream",
     "text": [
      "Hello World\n",
      "Welcome To Python Programming\n",
      "Have a great day\n"
     ]
    }
   ],
   "source": [
    "greet() #function calling"
   ]
  },
  {
   "cell_type": "code",
   "execution_count": null,
   "id": "fd7cef65",
   "metadata": {},
   "outputs": [
    {
     "name": "stdout",
     "output_type": "stream",
     "text": [
      "30\n"
     ]
    }
   ],
   "source": [
    "def sum(a,b): #parameter\n",
    "    print(a+b)"
   ]
  },
  {
   "cell_type": "code",
   "execution_count": 15,
   "id": "1913ef30",
   "metadata": {},
   "outputs": [
    {
     "name": "stdout",
     "output_type": "stream",
     "text": [
      "30\n"
     ]
    }
   ],
   "source": [
    "sum(10,20)"
   ]
  },
  {
   "cell_type": "markdown",
   "id": "d71bda27",
   "metadata": {},
   "source": [
    "# Non Return Function"
   ]
  },
  {
   "cell_type": "code",
   "execution_count": 4,
   "id": "0deba5b3",
   "metadata": {},
   "outputs": [
    {
     "name": "stdout",
     "output_type": "stream",
     "text": [
      "15.0\n",
      "None\n"
     ]
    }
   ],
   "source": [
    "def average(a,b):\n",
    "    print((a+b)/2)\n",
    "avg=average(10,20)\n",
    "print(avg)\n"
   ]
  },
  {
   "cell_type": "code",
   "execution_count": 43,
   "id": "0a8a3936",
   "metadata": {},
   "outputs": [
    {
     "name": "stdout",
     "output_type": "stream",
     "text": [
      "15.0\n"
     ]
    }
   ],
   "source": [
    "def average(a,b):\n",
    "    return ((a+b)/2)\n",
    "\n",
    "a=average(10,20)\n",
    "print(a)"
   ]
  },
  {
   "cell_type": "code",
   "execution_count": null,
   "id": "bc254791",
   "metadata": {},
   "outputs": [
    {
     "name": "stdout",
     "output_type": "stream",
     "text": [
      "24 is even\n"
     ]
    }
   ],
   "source": [
    "def even_odd(x):\n",
    "    if(x%2==0):\n",
    "        return(f\"{x} is even\")\n",
    "    else:\n",
    "        return(f\"{x} is odd\")    \n",
    "b=even_odd(24)\n",
    "print(b)        "
   ]
  },
  {
   "cell_type": "code",
   "execution_count": 54,
   "id": "bd757b96",
   "metadata": {},
   "outputs": [
    {
     "name": "stdout",
     "output_type": "stream",
     "text": [
      "I am from  USA\n",
      "I am from  India\n",
      "I am from  Australia\n",
      "I am from  India\n"
     ]
    }
   ],
   "source": [
    "def myCountry(country=\"India\"):\n",
    "    print(\"I am from  \" + country)\n",
    "myCountry(\"USA\")\n",
    "myCountry(\"India\")\n",
    "myCountry(\"Australia\")\n",
    "myCountry()\n",
    "    \n"
   ]
  },
  {
   "cell_type": "code",
   "execution_count": null,
   "id": "72ea1cd9",
   "metadata": {},
   "outputs": [
    {
     "name": "stdout",
     "output_type": "stream",
     "text": [
      "625\n"
     ]
    },
    {
     "data": {
      "text/plain": [
       "function"
      ]
     },
     "execution_count": 56,
     "metadata": {},
     "output_type": "execute_result"
    }
   ],
   "source": [
    "# lambda function\n",
    "square=lambda x:x**2\n",
    "print(square(25))"
   ]
  },
  {
   "cell_type": "code",
   "execution_count": 1,
   "id": "33af9bde",
   "metadata": {},
   "outputs": [],
   "source": [
    "import math"
   ]
  },
  {
   "cell_type": "code",
   "execution_count": 2,
   "id": "d11843ee",
   "metadata": {},
   "outputs": [
    {
     "name": "stdout",
     "output_type": "stream",
     "text": [
      "4.47213595499958\n",
      "120\n",
      "3.141592653589793\n",
      "2.302585092994046\n",
      "10\n",
      "0.8939966636005579\n"
     ]
    }
   ],
   "source": [
    "print(math.sqrt(20))\n",
    "print(math.factorial(5))\n",
    "print(math.pi)\n",
    "print(math.log(10))\n",
    "print(math.gcd(10,20))\n",
    "print(math.sin(90))"
   ]
  },
  {
   "cell_type": "code",
   "execution_count": 19,
   "id": "89491d88",
   "metadata": {},
   "outputs": [],
   "source": [
    "import random"
   ]
  },
  {
   "cell_type": "code",
   "execution_count": 24,
   "id": "59a21978",
   "metadata": {},
   "outputs": [
    {
     "name": "stdout",
     "output_type": "stream",
     "text": [
      "Get a random number from 0 and 1:  0.4420938990200879\n",
      "Get a random integer between 1 and 10:  4\n",
      "Get a random number from a list:  4\n",
      "Shuffled names are ['Doe', 'Bob', 'Alice', 'Jane', 'John']\n"
     ]
    }
   ],
   "source": [
    "from random import random, randint, choice, shuffle\n",
    "\n",
    "print(\"Get a random number from 0 and 1: \", random())\n",
    "print(\"Get a random integer between 1 and 10: \", randint(1, 10))\n",
    "print(\"Get a random number from a list: \", choice([1, 2,3, 4, 5]))\n",
    "names = [\"John\", \"Jane\", \"Doe\", \"Alice\", \"Bob\"]\n",
    "shuffle(names)\n",
    "print(f\"Shuffled names are {names}\")\n"
   ]
  },
  {
   "cell_type": "code",
   "execution_count": 25,
   "id": "5bab2511",
   "metadata": {},
   "outputs": [],
   "source": [
    "from datetime import datetime as dt"
   ]
  },
  {
   "cell_type": "code",
   "execution_count": 31,
   "id": "4103bcb0",
   "metadata": {},
   "outputs": [
    {
     "name": "stdout",
     "output_type": "stream",
     "text": [
      "Current Date and Time 2025-05-31 17:51:30.119036\n",
      "Current Date  2025-05-31\n",
      "Current Time  17:51:30.120036\n",
      "Current Year  2025\n",
      "Current Month  5\n",
      "Current Day  31\n",
      "Current Hour  17\n",
      "Current Minute  51\n"
     ]
    }
   ],
   "source": [
    "print(\"Current Date and Time\",dt.now())\n",
    "print(\"Current Date \",dt.now().date())\n",
    "print(\"Current Time \",dt.now().time())\n",
    "print(\"Current Year \",dt.now().year)\n",
    "print(\"Current Month \",dt.now().month)\n",
    "print(\"Current Day \",dt.now().day)\n",
    "print(\"Current Hour \",dt.now().hour)\n",
    "print(\"Current Minute \",dt.now().minute)\n"
   ]
  },
  {
   "cell_type": "code",
   "execution_count": 33,
   "id": "bcf02404",
   "metadata": {},
   "outputs": [
    {
     "name": "stdout",
     "output_type": "stream",
     "text": [
      "Formatted Date:  31/05/2025\n"
     ]
    }
   ],
   "source": [
    "date=dt.strftime(dt.now(),\"%d/%m/%Y\")\n",
    "print(\"Formatted Date: \",date)"
   ]
  },
  {
   "cell_type": "code",
   "execution_count": 37,
   "id": "f58dafdc",
   "metadata": {},
   "outputs": [],
   "source": [
    "import os"
   ]
  },
  {
   "cell_type": "code",
   "execution_count": null,
   "id": "df409b99",
   "metadata": {},
   "outputs": [
    {
     "name": "stdout",
     "output_type": "stream",
     "text": [
      "Current Working Directory: d:\\Python Digipodium 2.0\n"
     ]
    }
   ],
   "source": [
    "print(\"Current Working Directory:\",os.getcwd())\n"
   ]
  },
  {
   "cell_type": "code",
   "execution_count": 40,
   "id": "e1f4d1b3",
   "metadata": {},
   "outputs": [
    {
     "name": "stdout",
     "output_type": "stream",
     "text": [
      "Files In Current Directory: ['.git', 'conditions.ipynb', 'Data Structures', 'datatypes.ipynb', 'functions.ipynb', 'loops.ipynb', 'operators.ipynb', 'practise questions', 'variable.ipynb']\n",
      "9 files found\n"
     ]
    }
   ],
   "source": [
    "files=os.listdir()\n",
    "print(\"Files In Current Directory:\",files)\n",
    "print(len(files),\"files found\")"
   ]
  },
  {
   "cell_type": "code",
   "execution_count": 45,
   "id": "dbc61675",
   "metadata": {},
   "outputs": [
    {
     "name": "stdout",
     "output_type": "stream",
     "text": [
      "9 files found\n"
     ]
    },
    {
     "name": "stderr",
     "output_type": "stream",
     "text": [
      "<>:1: SyntaxWarning: invalid escape sequence '\\P'\n",
      "<>:1: SyntaxWarning: invalid escape sequence '\\P'\n",
      "C:\\Users\\Avirat Pal\\AppData\\Local\\Temp\\ipykernel_15748\\3038117458.py:1: SyntaxWarning: invalid escape sequence '\\P'\n",
      "  file=os.listdir(\"D:\\Python Digipodium\")\n"
     ]
    }
   ],
   "source": [
    "file=os.listdir(\"D:\\Python Digipodium\")\n",
    "print(len(files),\"files found\")"
   ]
  },
  {
   "cell_type": "code",
   "execution_count": 46,
   "id": "03ee0199",
   "metadata": {},
   "outputs": [
    {
     "data": {
      "text/plain": [
       "<generator object walk at 0x000001C4AAF0E9F0>"
      ]
     },
     "execution_count": 46,
     "metadata": {},
     "output_type": "execute_result"
    }
   ],
   "source": [
    "os.walk(os.getcwd())"
   ]
  },
  {
   "cell_type": "code",
   "execution_count": 47,
   "id": "065690d7",
   "metadata": {},
   "outputs": [
    {
     "name": "stdout",
     "output_type": "stream",
     "text": [
      "Root Directory d:\\Python Digipodium 2.0\n",
      "Sub Directory ['.git', 'Data Structures', 'practise questions']\n",
      "files ['conditions.ipynb', 'datatypes.ipynb', 'functions.ipynb', 'loops.ipynb', 'operators.ipynb', 'variable.ipynb']\n",
      "Root Directory d:\\Python Digipodium 2.0\\.git\n",
      "Sub Directory ['hooks', 'info', 'logs', 'objects', 'refs']\n",
      "files ['COMMIT_EDITMSG', 'config', 'description', 'FETCH_HEAD', 'HEAD', 'index', 'ORIG_HEAD']\n",
      "Root Directory d:\\Python Digipodium 2.0\\.git\\hooks\n",
      "Sub Directory []\n",
      "files ['applypatch-msg.sample', 'commit-msg.sample', 'fsmonitor-watchman.sample', 'post-update.sample', 'pre-applypatch.sample', 'pre-commit.sample', 'pre-merge-commit.sample', 'pre-push.sample', 'pre-rebase.sample', 'pre-receive.sample', 'prepare-commit-msg.sample', 'push-to-checkout.sample', 'sendemail-validate.sample', 'update.sample']\n",
      "Root Directory d:\\Python Digipodium 2.0\\.git\\info\n",
      "Sub Directory []\n",
      "files ['exclude']\n",
      "Root Directory d:\\Python Digipodium 2.0\\.git\\logs\n",
      "Sub Directory ['refs']\n",
      "files ['HEAD']\n",
      "Root Directory d:\\Python Digipodium 2.0\\.git\\logs\\refs\n",
      "Sub Directory ['heads', 'remotes']\n",
      "files []\n",
      "Root Directory d:\\Python Digipodium 2.0\\.git\\logs\\refs\\heads\n",
      "Sub Directory []\n",
      "files ['main']\n",
      "Root Directory d:\\Python Digipodium 2.0\\.git\\logs\\refs\\remotes\n",
      "Sub Directory ['origin']\n",
      "files []\n",
      "Root Directory d:\\Python Digipodium 2.0\\.git\\logs\\refs\\remotes\\origin\n",
      "Sub Directory []\n",
      "files ['main']\n",
      "Root Directory d:\\Python Digipodium 2.0\\.git\\objects\n",
      "Sub Directory ['01', '02', '05', '08', '0b', '0f', '17', '20', '24', '31', '32', '38', '39', '3e', '42', '45', '4a', '4b', '4f', '52', '57', '58', '5a', '5e', '60', '62', '6a', '6d', '74', '7d', '80', '81', '83', '85', '87', '8e', '91', '97', '99', '9a', '9b', '9d', '9e', 'a0', 'ad', 'af', 'b2', 'b3', 'b9', 'ba', 'be', 'c6', 'c7', 'ca', 'cb', 'cc', 'cf', 'd9', 'da', 'dc', 'de', 'e6', 'ec', 'f1', 'f2', 'f9', 'fe', 'info', 'pack']\n",
      "files []\n",
      "Root Directory d:\\Python Digipodium 2.0\\.git\\objects\\01\n",
      "Sub Directory []\n",
      "files ['f514350ec8de2e4a7f0f526c9ba077e2b781ad']\n",
      "Root Directory d:\\Python Digipodium 2.0\\.git\\objects\\02\n",
      "Sub Directory []\n",
      "files ['8d3f7cd9253b2648745f438ce32310930a8565', '8f82596acf95ff0493f49e7f5777dc0dcabab3']\n",
      "Root Directory d:\\Python Digipodium 2.0\\.git\\objects\\05\n",
      "Sub Directory []\n",
      "files ['6cf7e61917e21d60a821066ebf670266bc0ff4']\n",
      "Root Directory d:\\Python Digipodium 2.0\\.git\\objects\\08\n",
      "Sub Directory []\n",
      "files ['1c8c9117f5992cbb3b19da0672edef723ff51a', '6288652f9d24a0397dbe70c714875dbcef029f']\n",
      "Root Directory d:\\Python Digipodium 2.0\\.git\\objects\\0b\n",
      "Sub Directory []\n",
      "files ['a4921275ef9af958db09025f7d627573ad0ccb']\n",
      "Root Directory d:\\Python Digipodium 2.0\\.git\\objects\\0f\n",
      "Sub Directory []\n",
      "files ['2e9bc38e255a521514230134e45e47cbe5bc4d']\n",
      "Root Directory d:\\Python Digipodium 2.0\\.git\\objects\\17\n",
      "Sub Directory []\n",
      "files ['f32b62eea15726932624311f3a4c709dec9d7c']\n",
      "Root Directory d:\\Python Digipodium 2.0\\.git\\objects\\20\n",
      "Sub Directory []\n",
      "files ['560d923556e10f84c9d911ea48d1ff11ef7364']\n",
      "Root Directory d:\\Python Digipodium 2.0\\.git\\objects\\24\n",
      "Sub Directory []\n",
      "files ['84363248b3c035475b617a070969fc5f48fc2d']\n",
      "Root Directory d:\\Python Digipodium 2.0\\.git\\objects\\31\n",
      "Sub Directory []\n",
      "files ['f864fff0e9aecc3130bf6abb25088418f84346']\n",
      "Root Directory d:\\Python Digipodium 2.0\\.git\\objects\\32\n",
      "Sub Directory []\n",
      "files ['659b0014307b677863a81c282d422920e9dafc']\n",
      "Root Directory d:\\Python Digipodium 2.0\\.git\\objects\\38\n",
      "Sub Directory []\n",
      "files ['e917c9ba632e3cbb5f34ea9ce20cb2e25ca99d']\n",
      "Root Directory d:\\Python Digipodium 2.0\\.git\\objects\\39\n",
      "Sub Directory []\n",
      "files ['36593555e3a90bac3c239cd9348a218021ce8b']\n",
      "Root Directory d:\\Python Digipodium 2.0\\.git\\objects\\3e\n",
      "Sub Directory []\n",
      "files ['e885a10428de77efcf99dc24422cdd718c8151']\n",
      "Root Directory d:\\Python Digipodium 2.0\\.git\\objects\\42\n",
      "Sub Directory []\n",
      "files ['80f93fd0c6e8c78791a5292821127a3bbb7ed1']\n",
      "Root Directory d:\\Python Digipodium 2.0\\.git\\objects\\45\n",
      "Sub Directory []\n",
      "files ['30818fa23ed731fa5129470cd452b236af9540']\n",
      "Root Directory d:\\Python Digipodium 2.0\\.git\\objects\\4a\n",
      "Sub Directory []\n",
      "files ['28ca357ce9d50f541b9671d547876670072cd3']\n",
      "Root Directory d:\\Python Digipodium 2.0\\.git\\objects\\4b\n",
      "Sub Directory []\n",
      "files ['3f837be457c86ba3de1f0db0e26eac4a0ae5fe']\n",
      "Root Directory d:\\Python Digipodium 2.0\\.git\\objects\\4f\n",
      "Sub Directory []\n",
      "files ['6ad366cd04240c8da1f712a9f15167ad8b17e9']\n",
      "Root Directory d:\\Python Digipodium 2.0\\.git\\objects\\52\n",
      "Sub Directory []\n",
      "files ['11a7c056f7d8e6e980ff97bf1d598af1c297ee']\n",
      "Root Directory d:\\Python Digipodium 2.0\\.git\\objects\\57\n",
      "Sub Directory []\n",
      "files ['b8c9e163b0e9ee89af25cd3f7c2d7997e61c33']\n",
      "Root Directory d:\\Python Digipodium 2.0\\.git\\objects\\58\n",
      "Sub Directory []\n",
      "files ['499484afe744f536ba03f3a5fd0fe8afbf1b66', 'bcec21a5c96c5b9ffffbf627eae64cee743744']\n",
      "Root Directory d:\\Python Digipodium 2.0\\.git\\objects\\5a\n",
      "Sub Directory []\n",
      "files ['a3b4bb9bc9063d906cfe9f9edcb6a50bba7ee1', 'a936ed80f42a84750bffcc05357295e8f170d2']\n",
      "Root Directory d:\\Python Digipodium 2.0\\.git\\objects\\5e\n",
      "Sub Directory []\n",
      "files ['684544a8ba233f0cf09bdaf2c47af812f06f1b']\n",
      "Root Directory d:\\Python Digipodium 2.0\\.git\\objects\\60\n",
      "Sub Directory []\n",
      "files ['9275f13d5382b854a1d3bccfcbe487d81a3aea']\n",
      "Root Directory d:\\Python Digipodium 2.0\\.git\\objects\\62\n",
      "Sub Directory []\n",
      "files ['25ce19b78abb6ed1033fb84c4d259545624d00']\n",
      "Root Directory d:\\Python Digipodium 2.0\\.git\\objects\\6a\n",
      "Sub Directory []\n",
      "files ['4da4478ef43ea33588f36405d75157c7ad6314', 'dbb05a53b396750351ee7902225e915f4ba2af']\n",
      "Root Directory d:\\Python Digipodium 2.0\\.git\\objects\\6d\n",
      "Sub Directory []\n",
      "files ['a4400cd5011a87ce03899fcaef4ce36d643ad7']\n",
      "Root Directory d:\\Python Digipodium 2.0\\.git\\objects\\74\n",
      "Sub Directory []\n",
      "files ['5a1c934b65075b4154bcb54e6ebe6dbe0fc9fe']\n",
      "Root Directory d:\\Python Digipodium 2.0\\.git\\objects\\7d\n",
      "Sub Directory []\n",
      "files ['17bc3be4787a5c29ad61aade509c33aa791f50']\n",
      "Root Directory d:\\Python Digipodium 2.0\\.git\\objects\\80\n",
      "Sub Directory []\n",
      "files ['094d98c8881eaae3cda3fc50ef404d87a5ac1c']\n",
      "Root Directory d:\\Python Digipodium 2.0\\.git\\objects\\81\n",
      "Sub Directory []\n",
      "files ['2333ff6a8c9cdc56db4ef970bb076cac94cace']\n",
      "Root Directory d:\\Python Digipodium 2.0\\.git\\objects\\83\n",
      "Sub Directory []\n",
      "files ['a72a807a91ea345bc6830549cc9efa47cc64db']\n",
      "Root Directory d:\\Python Digipodium 2.0\\.git\\objects\\85\n",
      "Sub Directory []\n",
      "files ['374375b4ec6742f0bb99cea861e04cc0b954cb']\n",
      "Root Directory d:\\Python Digipodium 2.0\\.git\\objects\\87\n",
      "Sub Directory []\n",
      "files ['c043212283e6c15b5c39174b6e2241d2151b1d']\n",
      "Root Directory d:\\Python Digipodium 2.0\\.git\\objects\\8e\n",
      "Sub Directory []\n",
      "files ['235769c023ae8b5dad489734aa4ac26ad526de']\n",
      "Root Directory d:\\Python Digipodium 2.0\\.git\\objects\\91\n",
      "Sub Directory []\n",
      "files ['214dbc360590da5756da0d2a3b885720cf460b']\n",
      "Root Directory d:\\Python Digipodium 2.0\\.git\\objects\\97\n",
      "Sub Directory []\n",
      "files ['54ead336921ce2979d27a5f64637480cacc9cc']\n",
      "Root Directory d:\\Python Digipodium 2.0\\.git\\objects\\99\n",
      "Sub Directory []\n",
      "files ['e3c3bc0dcc76c478791822b702b8b20a99abd5']\n",
      "Root Directory d:\\Python Digipodium 2.0\\.git\\objects\\9a\n",
      "Sub Directory []\n",
      "files ['e871dcef5ebe105bef4c96d7b72e0e6901cdfe']\n",
      "Root Directory d:\\Python Digipodium 2.0\\.git\\objects\\9b\n",
      "Sub Directory []\n",
      "files ['70297339399d96e9dfdf037251aebf83974874']\n",
      "Root Directory d:\\Python Digipodium 2.0\\.git\\objects\\9d\n",
      "Sub Directory []\n",
      "files ['3e73492c66735bbea106427631977426a006ec', '7bf6f7beeea99f0943112d4ae3b1176e9cdd68', 'e8cd08f0e99e5467d67106b749d5b6e0a7ac2c']\n",
      "Root Directory d:\\Python Digipodium 2.0\\.git\\objects\\9e\n",
      "Sub Directory []\n",
      "files ['97bdd7ccd9b9e2e794ecdecd91f336a95b7242']\n",
      "Root Directory d:\\Python Digipodium 2.0\\.git\\objects\\a0\n",
      "Sub Directory []\n",
      "files ['aa6d3194e39f196e2678bba19b86ddb2926536']\n",
      "Root Directory d:\\Python Digipodium 2.0\\.git\\objects\\ad\n",
      "Sub Directory []\n",
      "files ['35e5ae34d7df6d469bfe65dbfcefe988e0169f']\n",
      "Root Directory d:\\Python Digipodium 2.0\\.git\\objects\\af\n",
      "Sub Directory []\n",
      "files ['3dca30deaea54947276a93c88524f2b9b4474c']\n",
      "Root Directory d:\\Python Digipodium 2.0\\.git\\objects\\b2\n",
      "Sub Directory []\n",
      "files ['7903332ebb423f1634305b1b6e554ce63189aa']\n",
      "Root Directory d:\\Python Digipodium 2.0\\.git\\objects\\b3\n",
      "Sub Directory []\n",
      "files ['8db8a752ac3cbd9ce6584689762a1ca93cbc29', 'd71277d22a6e5a486a4c6f0abe8ee08a9eadc6']\n",
      "Root Directory d:\\Python Digipodium 2.0\\.git\\objects\\b9\n",
      "Sub Directory []\n",
      "files ['e7ba2217953595ac8f82bb9696f76fc7d0bb53']\n",
      "Root Directory d:\\Python Digipodium 2.0\\.git\\objects\\ba\n",
      "Sub Directory []\n",
      "files ['ea72918d1c2f9b247c89787866080699ddf761']\n",
      "Root Directory d:\\Python Digipodium 2.0\\.git\\objects\\be\n",
      "Sub Directory []\n",
      "files ['92f616b7d32a323886e0be25470f8eb10aa189']\n",
      "Root Directory d:\\Python Digipodium 2.0\\.git\\objects\\c6\n",
      "Sub Directory []\n",
      "files ['23e454c516b46d94e719f30d1da0503a625e8a']\n",
      "Root Directory d:\\Python Digipodium 2.0\\.git\\objects\\c7\n",
      "Sub Directory []\n",
      "files ['0202f150ddf7a34e1f436327edf2bb4e91fa3a', 'a8f24b096444313141f32328bdfad28aed7743']\n",
      "Root Directory d:\\Python Digipodium 2.0\\.git\\objects\\ca\n",
      "Sub Directory []\n",
      "files ['3bd5e0f65aa746b0f3b1f4aa89203b84b37e99']\n",
      "Root Directory d:\\Python Digipodium 2.0\\.git\\objects\\cb\n",
      "Sub Directory []\n",
      "files ['f82b24a41db77841c573673ed4c79d5db64ba4']\n",
      "Root Directory d:\\Python Digipodium 2.0\\.git\\objects\\cc\n",
      "Sub Directory []\n",
      "files ['8ff273d27265f113d9338c538745542f6ee4a0']\n",
      "Root Directory d:\\Python Digipodium 2.0\\.git\\objects\\cf\n",
      "Sub Directory []\n",
      "files ['485afe5d308ce910a2703b69da951739f1573f']\n",
      "Root Directory d:\\Python Digipodium 2.0\\.git\\objects\\d9\n",
      "Sub Directory []\n",
      "files ['85f87c594e83b48258320c2d5ba455214301ba']\n",
      "Root Directory d:\\Python Digipodium 2.0\\.git\\objects\\da\n",
      "Sub Directory []\n",
      "files ['f73f605dbc68b56d569a1fe0b65765daf446aa']\n",
      "Root Directory d:\\Python Digipodium 2.0\\.git\\objects\\dc\n",
      "Sub Directory []\n",
      "files ['2036416a1fafc788d4f620f243638b7104105c']\n",
      "Root Directory d:\\Python Digipodium 2.0\\.git\\objects\\de\n",
      "Sub Directory []\n",
      "files ['4bbfba28046c16d4771a56ffc7627daf243a86']\n",
      "Root Directory d:\\Python Digipodium 2.0\\.git\\objects\\e6\n",
      "Sub Directory []\n",
      "files ['9de29bb2d1d6434b8b29ae775ad8c2e48c5391']\n",
      "Root Directory d:\\Python Digipodium 2.0\\.git\\objects\\ec\n",
      "Sub Directory []\n",
      "files ['de251df248e019691762f67ee7eed8da6ee90d']\n",
      "Root Directory d:\\Python Digipodium 2.0\\.git\\objects\\f1\n",
      "Sub Directory []\n",
      "files ['3815307838de93733a1fdcd7c88e5cc549ba97']\n",
      "Root Directory d:\\Python Digipodium 2.0\\.git\\objects\\f2\n",
      "Sub Directory []\n",
      "files ['2cbb910e54aaf95307d0763152bc6d885e401c']\n",
      "Root Directory d:\\Python Digipodium 2.0\\.git\\objects\\f9\n",
      "Sub Directory []\n",
      "files ['ae825969d66e53ebf61e74f7d080138e993bc3']\n",
      "Root Directory d:\\Python Digipodium 2.0\\.git\\objects\\fe\n",
      "Sub Directory []\n",
      "files ['39b6799e8d91969c5b9cea3a0aad86e7429d8c']\n",
      "Root Directory d:\\Python Digipodium 2.0\\.git\\objects\\info\n",
      "Sub Directory []\n",
      "files []\n",
      "Root Directory d:\\Python Digipodium 2.0\\.git\\objects\\pack\n",
      "Sub Directory []\n",
      "files []\n",
      "Root Directory d:\\Python Digipodium 2.0\\.git\\refs\n",
      "Sub Directory ['heads', 'remotes', 'tags']\n",
      "files []\n",
      "Root Directory d:\\Python Digipodium 2.0\\.git\\refs\\heads\n",
      "Sub Directory []\n",
      "files ['main']\n",
      "Root Directory d:\\Python Digipodium 2.0\\.git\\refs\\remotes\n",
      "Sub Directory ['origin']\n",
      "files []\n",
      "Root Directory d:\\Python Digipodium 2.0\\.git\\refs\\remotes\\origin\n",
      "Sub Directory []\n",
      "files ['main']\n",
      "Root Directory d:\\Python Digipodium 2.0\\.git\\refs\\tags\n",
      "Sub Directory []\n",
      "files []\n",
      "Root Directory d:\\Python Digipodium 2.0\\Data Structures\n",
      "Sub Directory []\n",
      "files ['dictionary.ipynb', 'List.ipynb', 'sets.ipynb', 'strings.ipynb']\n",
      "Root Directory d:\\Python Digipodium 2.0\\practise questions\n",
      "Sub Directory []\n",
      "files ['assignment.ipynb', 'conditions.ipynb', 'dictionaries.ipynb', 'list.ipynb', 'loops.ipynb', 'strings.ipynb']\n"
     ]
    }
   ],
   "source": [
    "for root,dirs,files in os.walk(os.getcwd()):\n",
    "    print(\"Root Directory\",root)\n",
    "    print(\"Sub Directory\",dirs)\n",
    "    print(\"files\",files)"
   ]
  },
  {
   "cell_type": "code",
   "execution_count": 50,
   "id": "5b49c408",
   "metadata": {},
   "outputs": [
    {
     "name": "stdout",
     "output_type": "stream",
     "text": [
      "File Exist D:\\Python Digipodium\n"
     ]
    }
   ],
   "source": [
    "# files exist or not\n",
    "files=r\"D:\\Python Digipodium\"\n",
    "if os.path.exists(files):\n",
    "    print(\"File Exist\",files)\n",
    "else:\n",
    "    print(\"file does not exist\",files)    "
   ]
  },
  {
   "cell_type": "code",
   "execution_count": null,
   "id": "9b28ad81",
   "metadata": {},
   "outputs": [],
   "source": []
  }
 ],
 "metadata": {
  "kernelspec": {
   "display_name": "base",
   "language": "python",
   "name": "python3"
  },
  "language_info": {
   "codemirror_mode": {
    "name": "ipython",
    "version": 3
   },
   "file_extension": ".py",
   "mimetype": "text/x-python",
   "name": "python",
   "nbconvert_exporter": "python",
   "pygments_lexer": "ipython3",
   "version": "3.12.9"
  }
 },
 "nbformat": 4,
 "nbformat_minor": 5
}
