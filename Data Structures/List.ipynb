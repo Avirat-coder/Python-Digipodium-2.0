{
 "cells": [
  {
   "cell_type": "code",
   "execution_count": 5,
   "id": "c9f6446f",
   "metadata": {},
   "outputs": [
    {
     "name": "stdout",
     "output_type": "stream",
     "text": [
      "['google', 'drive', 'swiggy', 'zomato', 'uber', 'ola', 'whatsapp', 'snapchat', 'instagram']\n"
     ]
    }
   ],
   "source": [
    "apps=[\"google\",\"drive\",\"swiggy\",\"zomato\",\"uber\",\"ola\",\"whatsapp\",\"snapchat\",\"instagram\"]\n",
    "print(apps)"
   ]
  },
  {
   "cell_type": "code",
   "execution_count": 6,
   "id": "e81e26a9",
   "metadata": {},
   "outputs": [
    {
     "name": "stdout",
     "output_type": "stream",
     "text": [
      "uber\n"
     ]
    }
   ],
   "source": [
    "print(apps[4])"
   ]
  },
  {
   "cell_type": "code",
   "execution_count": 7,
   "id": "3237cc4d",
   "metadata": {},
   "outputs": [
    {
     "name": "stdout",
     "output_type": "stream",
     "text": [
      "uber\n"
     ]
    }
   ],
   "source": [
    "print(apps[-5])"
   ]
  }
 ],
 "metadata": {
  "kernelspec": {
   "display_name": "base",
   "language": "python",
   "name": "python3"
  },
  "language_info": {
   "codemirror_mode": {
    "name": "ipython",
    "version": 3
   },
   "file_extension": ".py",
   "mimetype": "text/x-python",
   "name": "python",
   "nbconvert_exporter": "python",
   "pygments_lexer": "ipython3",
   "version": "3.12.9"
  }
 },
 "nbformat": 4,
 "nbformat_minor": 5
}
