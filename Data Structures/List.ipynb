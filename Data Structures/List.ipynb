{
 "cells": [
  {
   "cell_type": "code",
   "execution_count": 2,
   "id": "c9f6446f",
   "metadata": {},
   "outputs": [
    {
     "name": "stdout",
     "output_type": "stream",
     "text": [
      "['google', 'drive', 'swiggy', 'zomato', 'uber', 'ola', 'whatsapp', 'snapchat', 'instagram']\n"
     ]
    }
   ],
   "source": [
    "apps=[\"google\",\"drive\",\"swiggy\",\"zomato\",\"uber\",\"ola\",\"whatsapp\",\"snapchat\",\"instagram\"]\n",
    "print(apps)"
   ]
  },
  {
   "cell_type": "markdown",
   "id": "ff1450d5",
   "metadata": {},
   "source": [
    "Indexing refers to extracting only one value from a given list"
   ]
  },
  {
   "cell_type": "code",
   "execution_count": 3,
   "id": "e81e26a9",
   "metadata": {},
   "outputs": [
    {
     "name": "stdout",
     "output_type": "stream",
     "text": [
      "uber\n"
     ]
    }
   ],
   "source": [
    "print(apps[4]) #Indexing"
   ]
  },
  {
   "cell_type": "code",
   "execution_count": 4,
   "id": "3237cc4d",
   "metadata": {},
   "outputs": [
    {
     "name": "stdout",
     "output_type": "stream",
     "text": [
      "zomato\n"
     ]
    }
   ],
   "source": [
    "print(apps[-6]) #Indexing"
   ]
  },
  {
   "cell_type": "markdown",
   "id": "673f9bb5",
   "metadata": {},
   "source": [
    "Slicing refers to extracting a substring from a given string"
   ]
  },
  {
   "cell_type": "code",
   "execution_count": 5,
   "id": "9375f9b2",
   "metadata": {},
   "outputs": [
    {
     "name": "stdout",
     "output_type": "stream",
     "text": [
      "['drive', 'swiggy', 'zomato', 'uber']\n"
     ]
    }
   ],
   "source": [
    "print(apps[1:5])"
   ]
  },
  {
   "cell_type": "code",
   "execution_count": 6,
   "id": "c2f58cf9",
   "metadata": {},
   "outputs": [
    {
     "name": "stdout",
     "output_type": "stream",
     "text": [
      "['drive', 'zomato', 'ola']\n"
     ]
    }
   ],
   "source": [
    "print(apps[1:6:2])"
   ]
  },
  {
   "cell_type": "code",
   "execution_count": 7,
   "id": "ff58f928",
   "metadata": {},
   "outputs": [
    {
     "name": "stdout",
     "output_type": "stream",
     "text": [
      "['google', 'drive', 'swiggy', 'zomato', 'uber']\n",
      "['google', 'swiggy', 'uber']\n",
      "['zomato', 'uber', 'ola', 'whatsapp', 'snapchat', 'instagram']\n",
      "['google', 'drive', 'swiggy', 'zomato', 'uber', 'ola']\n",
      "['google', 'drive', 'swiggy', 'zomato', 'uber', 'ola', 'whatsapp', 'snapchat', 'instagram']\n",
      "['google', 'swiggy', 'uber', 'whatsapp', 'instagram']\n"
     ]
    }
   ],
   "source": [
    "apps=[\"google\",\"drive\",\"swiggy\",\"zomato\",\"uber\",\"ola\",\"whatsapp\",\"snapchat\",\"instagram\"]\n",
    "print(apps[0:5])\n",
    "print(apps[0:5:2])\n",
    "print(apps[3:]) #extract from index position 3 to end of the list\n",
    "print(apps[:6]) #extract from index position 0 to 6 number  of the list\n",
    "print(apps[:])  #print the whole list\n",
    "print(apps[::2]) #print the whole list and skipping the next value"
   ]
  },
  {
   "cell_type": "markdown",
   "id": "d49faf17",
   "metadata": {},
   "source": [
    "List Method\n",
    "- append() - to add element at the end of the list\n",
    "- insert() - to add element at specific position \n",
    "- pop() - to delete an element using the index\n",
    "- remove() - to delete an element using element name\n",
    "- copy() - to make a copy of the list\n",
    "- clear() - to delete all items of the list but not the list\n",
    "- sort() - to arrange items in the particular order     (reverse=True)-Arrange the list in descending order\n",
    "- extend() - to combine two lists into one list"
   ]
  },
  {
   "cell_type": "code",
   "execution_count": 8,
   "id": "3fd62468",
   "metadata": {},
   "outputs": [
    {
     "name": "stdout",
     "output_type": "stream",
     "text": [
      "['google', 'drive', 'swiggy', 'zomato', 'uber', 'ola', 'whatsapp', 'snapchat', 'instagram', 'facebook']\n"
     ]
    }
   ],
   "source": [
    "apps.append(\"facebook\")\n",
    "print(apps)"
   ]
  },
  {
   "cell_type": "code",
   "execution_count": 9,
   "id": "409ddd21",
   "metadata": {},
   "outputs": [
    {
     "name": "stdout",
     "output_type": "stream",
     "text": [
      "['google', 'drive', 'twitter', 'swiggy', 'zomato', 'uber', 'ola', 'whatsapp', 'snapchat', 'instagram', 'facebook']\n"
     ]
    }
   ],
   "source": [
    "apps.insert(2,\"twitter\")\n",
    "print(apps)\n",
    "\n"
   ]
  },
  {
   "cell_type": "code",
   "execution_count": 10,
   "id": "4c8c31f7",
   "metadata": {},
   "outputs": [
    {
     "name": "stdout",
     "output_type": "stream",
     "text": [
      "['google', 'drive', 'swiggy', 'zomato', 'uber', 'ola', 'whatsapp', 'snapchat', 'instagram', 'facebook']\n"
     ]
    }
   ],
   "source": [
    "apps.pop(2)\n",
    "print(apps)"
   ]
  },
  {
   "cell_type": "code",
   "execution_count": 11,
   "id": "6e9e99e2",
   "metadata": {},
   "outputs": [
    {
     "name": "stdout",
     "output_type": "stream",
     "text": [
      "['google', 'drive', 'swiggy', 'zomato', 'ola', 'whatsapp', 'snapchat', 'instagram', 'facebook']\n"
     ]
    }
   ],
   "source": [
    "apps.remove(\"uber\")\n",
    "print(apps)"
   ]
  },
  {
   "cell_type": "code",
   "execution_count": 12,
   "id": "a1fcab40",
   "metadata": {},
   "outputs": [
    {
     "name": "stdout",
     "output_type": "stream",
     "text": [
      "['google', 'drive', 'swiggy', 'zomato', 'ola', 'whatsapp', 'snapchat', 'instagram', 'facebook']\n"
     ]
    }
   ],
   "source": [
    "copy=apps.copy()\n",
    "print(copy)"
   ]
  },
  {
   "cell_type": "code",
   "execution_count": 13,
   "id": "815e3003",
   "metadata": {},
   "outputs": [
    {
     "name": "stdout",
     "output_type": "stream",
     "text": [
      "[]\n"
     ]
    }
   ],
   "source": [
    "copy.clear()\n",
    "print(copy)"
   ]
  },
  {
   "cell_type": "code",
   "execution_count": 14,
   "id": "eca7a3f2",
   "metadata": {},
   "outputs": [
    {
     "name": "stdout",
     "output_type": "stream",
     "text": [
      "['drive', 'facebook', 'google', 'instagram', 'ola', 'snapchat', 'swiggy', 'whatsapp', 'zomato']\n"
     ]
    }
   ],
   "source": [
    "apps.sort()\n",
    "print(apps)"
   ]
  },
  {
   "cell_type": "code",
   "execution_count": 15,
   "id": "cf4da1ec",
   "metadata": {},
   "outputs": [
    {
     "name": "stdout",
     "output_type": "stream",
     "text": [
      "['zomato', 'whatsapp', 'swiggy', 'snapchat', 'ola', 'instagram', 'google', 'facebook', 'drive']\n"
     ]
    }
   ],
   "source": [
    "apps.sort(reverse=True)\n",
    "print(apps)"
   ]
  },
  {
   "cell_type": "code",
   "execution_count": 16,
   "id": "ccbcd448",
   "metadata": {},
   "outputs": [
    {
     "name": "stdout",
     "output_type": "stream",
     "text": [
      "['zomato', 'whatsapp', 'swiggy', 'snapchat', 'ola', 'instagram', 'google', 'facebook', 'drive']\n"
     ]
    }
   ],
   "source": [
    "apps.extend(copy)\n",
    "print(apps)"
   ]
  }
 ],
 "metadata": {
  "kernelspec": {
   "display_name": "Python 3",
   "language": "python",
   "name": "python3"
  },
  "language_info": {
   "codemirror_mode": {
    "name": "ipython",
    "version": 3
   },
   "file_extension": ".py",
   "mimetype": "text/x-python",
   "name": "python",
   "nbconvert_exporter": "python",
   "pygments_lexer": "ipython3",
   "version": "3.12.9"
  }
 },
 "nbformat": 4,
 "nbformat_minor": 5
}
