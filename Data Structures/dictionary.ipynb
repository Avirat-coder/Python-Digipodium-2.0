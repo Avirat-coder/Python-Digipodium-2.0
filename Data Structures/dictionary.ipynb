{
 "cells": [
  {
   "cell_type": "code",
   "execution_count": 1,
   "id": "ca33f2b2",
   "metadata": {},
   "outputs": [
    {
     "name": "stdout",
     "output_type": "stream",
     "text": [
      "{'name': 'John', 'age': 25, 'course': 'Python', 'marks': 78}\n"
     ]
    }
   ],
   "source": [
    "student = {\n",
    "    \"name\": \"John\",\n",
    "    \"age\" :25,\n",
    "    \"course\" :\"Python\",\n",
    "    \"marks\":78\n",
    "}\n",
    "print(student)"
   ]
  },
  {
   "cell_type": "code",
   "execution_count": 2,
   "id": "9cebd70d",
   "metadata": {},
   "outputs": [
    {
     "name": "stdout",
     "output_type": "stream",
     "text": [
      "{'name': 'John', 'age': 25, 'course': 'Python', 'marks': 78}\n"
     ]
    }
   ],
   "source": [
    "info =dict(name = \"John\", age = 25, course =  \"Python\", marks = 78)\n",
    "print(info)"
   ]
  },
  {
   "cell_type": "code",
   "execution_count": 3,
   "id": "170d3304",
   "metadata": {},
   "outputs": [
    {
     "name": "stdout",
     "output_type": "stream",
     "text": [
      "{'name': 'Avirat', 'age': 21, 'course': 'DSA', 'marks': 45}\n"
     ]
    }
   ],
   "source": [
    "info=dict(name=input(\"Enter Your Name: \"),age=int(input(\"Enter Your age: \")),course=input(\"Enter your course: \"),marks=int(input(\"Enter your marks\")))\n",
    "print(info)"
   ]
  },
  {
   "cell_type": "code",
   "execution_count": 4,
   "id": "0c36f618",
   "metadata": {},
   "outputs": [
    {
     "name": "stdout",
     "output_type": "stream",
     "text": [
      "{'lucknow': [32, 36, 38], 'kanpur': [35, 37, 40], 'delhi': [36, 37, 40]}\n"
     ]
    }
   ],
   "source": [
    "temp = {\n",
    "    'lucknow' : [32,36,38],\n",
    "    'kanpur' : [35,37,40],\n",
    "    'delhi'  :[36,37,40]\n",
    "}\n",
    "print(temp)"
   ]
  },
  {
   "cell_type": "code",
   "execution_count": 5,
   "id": "20724484",
   "metadata": {},
   "outputs": [
    {
     "name": "stdout",
     "output_type": "stream",
     "text": [
      "John\n",
      "25\n"
     ]
    }
   ],
   "source": [
    "#1st method to access values through keys\n",
    "print(student['name'])\n",
    "print(student['age'])"
   ]
  },
  {
   "cell_type": "code",
   "execution_count": 6,
   "id": "55e05d7c",
   "metadata": {},
   "outputs": [
    {
     "name": "stdout",
     "output_type": "stream",
     "text": [
      "Python\n",
      "25\n"
     ]
    }
   ],
   "source": [
    "#2nd method to access value through keys\n",
    "print(student.get(\"course\"))\n",
    "print(student.get(\"age\"))"
   ]
  },
  {
   "cell_type": "code",
   "execution_count": 7,
   "id": "edaffd3e",
   "metadata": {},
   "outputs": [
    {
     "name": "stdout",
     "output_type": "stream",
     "text": [
      "{'name': 'John', 'age': 25, 'course': 'Python', 'marks': 78, 'city': 'Lucknow'}\n"
     ]
    }
   ],
   "source": [
    "# to add items in dictionary\n",
    "student['city']='Lucknow'\n",
    "print(student)"
   ]
  },
  {
   "cell_type": "code",
   "execution_count": 8,
   "id": "6db124ab",
   "metadata": {},
   "outputs": [
    {
     "name": "stdout",
     "output_type": "stream",
     "text": [
      "dict_keys(['name', 'age', 'course', 'marks', 'city'])\n",
      "dict_values(['John', 25, 'Python', 78, 'Lucknow'])\n",
      "dict_items([('name', 'John'), ('age', 25), ('course', 'Python'), ('marks', 78), ('city', 'Lucknow')])\n"
     ]
    }
   ],
   "source": [
    "print(student.keys())\n",
    "print(student.values())\n",
    "print(student.items())"
   ]
  },
  {
   "cell_type": "code",
   "execution_count": 9,
   "id": "63cf9be9",
   "metadata": {},
   "outputs": [
    {
     "name": "stdout",
     "output_type": "stream",
     "text": [
      "name:John\n",
      "age:25\n",
      "course:Python\n",
      "marks:78\n",
      "city:Lucknow\n"
     ]
    }
   ],
   "source": [
    "for k,v in student.items():\n",
    "  print(f'{k}:{v}')  "
   ]
  },
  {
   "cell_type": "code",
   "execution_count": 10,
   "id": "cb2965c2",
   "metadata": {},
   "outputs": [
    {
     "name": "stdout",
     "output_type": "stream",
     "text": [
      "sum of 10 and 35 is 45\n",
      "sum of 10 and 35 is 45\n"
     ]
    }
   ],
   "source": [
    "a=10\n",
    "b=35\n",
    "sum = a+b\n",
    "print(\"sum of\",a,\"and\",b,\"is\",sum)\n",
    "print(f'sum of {a} and {b} is {sum}')"
   ]
  },
  {
   "cell_type": "code",
   "execution_count": 11,
   "id": "ed638663",
   "metadata": {},
   "outputs": [
    {
     "name": "stdout",
     "output_type": "stream",
     "text": [
      "{'emp001': {'name': 'Varun', 'age': 20, 'dept': 'IT', 'salary': 25000}, 'emp002': {'name': 'Arnav', 'age': 20, 'dept': 'IT', 'salary': 26000}, 'emp003': {'name': 'Honey', 'age': 20, 'dept': 'IT', 'salary': 26000}}\n"
     ]
    }
   ],
   "source": [
    "company={\n",
    "    'emp001':{\n",
    "        'name': 'Varun',\n",
    "        'age':20,\n",
    "        'dept':'IT',\n",
    "        'salary':25000\n",
    "    },\n",
    "    'emp002':{\n",
    "        'name':\"Arnav\",\n",
    "        'age':20,\n",
    "        'dept':'IT',\n",
    "        'salary':26000\n",
    "    },\n",
    "    'emp003':{\n",
    "        'name':\"Honey\",\n",
    "        'age':20,\n",
    "        'dept':'IT',\n",
    "        'salary':26000\n",
    "    }\n",
    "   \n",
    "}\n",
    "print(company) "
   ]
  },
  {
   "cell_type": "code",
   "execution_count": 13,
   "id": "18a0a687",
   "metadata": {},
   "outputs": [],
   "source": [
    "from pprint import pprint"
   ]
  },
  {
   "cell_type": "code",
   "execution_count": 14,
   "id": "cda3ecf7",
   "metadata": {},
   "outputs": [
    {
     "name": "stdout",
     "output_type": "stream",
     "text": [
      "{'emp001': {'age': 20, 'dept': 'IT', 'name': 'Varun', 'salary': 25000},\n",
      " 'emp002': {'age': 20, 'dept': 'IT', 'name': 'Arnav', 'salary': 26000},\n",
      " 'emp003': {'age': 20, 'dept': 'IT', 'name': 'Honey', 'salary': 26000}}\n"
     ]
    }
   ],
   "source": [
    "pprint(company)"
   ]
  },
  {
   "cell_type": "code",
   "execution_count": 1,
   "id": "465549dd",
   "metadata": {},
   "outputs": [
    {
     "ename": "NameError",
     "evalue": "name 'company' is not defined",
     "output_type": "error",
     "traceback": [
      "\u001b[1;31m---------------------------------------------------------------------------\u001b[0m",
      "\u001b[1;31mNameError\u001b[0m                                 Traceback (most recent call last)",
      "Cell \u001b[1;32mIn[1], line 1\u001b[0m\n\u001b[1;32m----> 1\u001b[0m \u001b[38;5;28mprint\u001b[39m(\u001b[43mcompany\u001b[49m[\u001b[38;5;124m'\u001b[39m\u001b[38;5;124memp002\u001b[39m\u001b[38;5;124m'\u001b[39m][\u001b[38;5;124m'\u001b[39m\u001b[38;5;124mage\u001b[39m\u001b[38;5;124m'\u001b[39m])\n",
      "\u001b[1;31mNameError\u001b[0m: name 'company' is not defined"
     ]
    }
   ],
   "source": [
    "print(company['emp002']['age'])"
   ]
  }
 ],
 "metadata": {
  "kernelspec": {
   "display_name": "base",
   "language": "python",
   "name": "python3"
  },
  "language_info": {
   "codemirror_mode": {
    "name": "ipython",
    "version": 3
   },
   "file_extension": ".py",
   "mimetype": "text/x-python",
   "name": "python",
   "nbconvert_exporter": "python",
   "pygments_lexer": "ipython3",
   "version": "3.12.9"
  }
 },
 "nbformat": 4,
 "nbformat_minor": 5
}
