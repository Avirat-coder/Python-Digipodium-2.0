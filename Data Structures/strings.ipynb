{
 "cells": [
  {
   "cell_type": "code",
   "execution_count": 6,
   "id": "114dd3c4",
   "metadata": {},
   "outputs": [
    {
     "name": "stdout",
     "output_type": "stream",
     "text": [
      "Avirat\n",
      "Avirat\n",
      "Avirat\n",
      "Avirat\n",
      "Avirat\n"
     ]
    }
   ],
   "source": [
    "a=(\"Avirat\")\n",
    "for i in range(5):\n",
    "    print(a)"
   ]
  },
  {
   "cell_type": "code",
   "execution_count": 10,
   "id": "9f4bc347",
   "metadata": {},
   "outputs": [
    {
     "name": "stdout",
     "output_type": "stream",
     "text": [
      "A\n",
      "v\n",
      "i\n",
      "r\n",
      "a\n",
      "t\n",
      " \n",
      "P\n",
      "a\n",
      "l\n"
     ]
    }
   ],
   "source": [
    "a=(\"Avirat Pal\")\n",
    "for i in a:\n",
    "    print(i)"
   ]
  },
  {
   "cell_type": "code",
   "execution_count": 13,
   "id": "0019e3d8",
   "metadata": {},
   "outputs": [
    {
     "name": "stdout",
     "output_type": "stream",
     "text": [
      "Avirat Pal"
     ]
    }
   ],
   "source": [
    "a=(\"Avirat Pal\")\n",
    "for i in a:\n",
    "    print(i,end=\"\")"
   ]
  },
  {
   "cell_type": "code",
   "execution_count": 14,
   "id": "f24b3564",
   "metadata": {},
   "outputs": [
    {
     "data": {
      "text/plain": [
       "('v', 'l')"
      ]
     },
     "execution_count": 14,
     "metadata": {},
     "output_type": "execute_result"
    }
   ],
   "source": [
    "a[1],a[-1]"
   ]
  },
  {
   "cell_type": "code",
   "execution_count": 16,
   "id": "f598c919",
   "metadata": {},
   "outputs": [
    {
     "data": {
      "text/plain": [
       "'Avirat'"
      ]
     },
     "execution_count": 16,
     "metadata": {},
     "output_type": "execute_result"
    }
   ],
   "source": [
    "a[0:6]"
   ]
  },
  {
   "cell_type": "code",
   "execution_count": 17,
   "id": "637874fa",
   "metadata": {},
   "outputs": [
    {
     "data": {
      "text/plain": [
       "'Pal'"
      ]
     },
     "execution_count": 17,
     "metadata": {},
     "output_type": "execute_result"
    }
   ],
   "source": [
    "b=\"Avirat Pal\"\n",
    "b[7:]"
   ]
  },
  {
   "cell_type": "code",
   "execution_count": null,
   "id": "bdf58c38",
   "metadata": {},
   "outputs": [
    {
     "data": {
      "text/plain": [
       "'laP tarivA'"
      ]
     },
     "execution_count": 24,
     "metadata": {},
     "output_type": "execute_result"
    }
   ],
   "source": [
    "a[::-1] #-1 reverse the string\n"
   ]
  },
  {
   "cell_type": "code",
   "execution_count": 25,
   "id": "d4efae04",
   "metadata": {},
   "outputs": [
    {
     "data": {
      "text/plain": [
       "'ariv'"
      ]
     },
     "execution_count": 25,
     "metadata": {},
     "output_type": "execute_result"
    }
   ],
   "source": [
    "a[-6:0:-1]\n"
   ]
  },
  {
   "cell_type": "code",
   "execution_count": null,
   "id": "8182899e",
   "metadata": {},
   "outputs": [
    {
     "name": "stdout",
     "output_type": "stream",
     "text": [
      "Avirat Pal\n",
      "Avirat Pal\n",
      "Avirat Pal\n",
      "Avirat Pal\n",
      "Avirat Pal\n"
     ]
    }
   ],
   "source": [
    "\n",
    "    "
   ]
  }
 ],
 "metadata": {
  "kernelspec": {
   "display_name": "base",
   "language": "python",
   "name": "python3"
  },
  "language_info": {
   "codemirror_mode": {
    "name": "ipython",
    "version": 3
   },
   "file_extension": ".py",
   "mimetype": "text/x-python",
   "name": "python",
   "nbconvert_exporter": "python",
   "pygments_lexer": "ipython3",
   "version": "3.12.9"
  }
 },
 "nbformat": 4,
 "nbformat_minor": 5
}
