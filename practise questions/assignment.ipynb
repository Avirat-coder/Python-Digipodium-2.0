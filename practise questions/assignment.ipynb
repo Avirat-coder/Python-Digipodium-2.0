{
 "cells": [
  {
   "cell_type": "markdown",
   "id": "f597d447",
   "metadata": {},
   "source": [
    "Program to prompt the user to enter a number, assign it to a variable, and print it to the console.\n"
   ]
  },
  {
   "cell_type": "code",
   "execution_count": 5,
   "id": "d5bb9cbb",
   "metadata": {},
   "outputs": [
    {
     "name": "stdout",
     "output_type": "stream",
     "text": [
      "45\n"
     ]
    }
   ],
   "source": [
    "a=int(input(\"Enter any value\"))\n",
    "b=a\n",
    "print(b)"
   ]
  },
  {
   "cell_type": "markdown",
   "id": "ac6f6f31",
   "metadata": {},
   "source": [
    "Program to demonstrate the use of type() function to check the data type of a variable.\n"
   ]
  },
  {
   "cell_type": "code",
   "execution_count": 9,
   "id": "10a98e2d",
   "metadata": {},
   "outputs": [
    {
     "data": {
      "text/plain": [
       "int"
      ]
     },
     "execution_count": 9,
     "metadata": {},
     "output_type": "execute_result"
    }
   ],
   "source": [
    "a=int(input(\"Enter the number\"))\n",
    "type(a)\n"
   ]
  },
  {
   "cell_type": "markdown",
   "id": "17815daf",
   "metadata": {},
   "source": [
    "Program to find out the cube of 29.\n"
   ]
  },
  {
   "cell_type": "code",
   "execution_count": 12,
   "id": "dd6d5ba7",
   "metadata": {},
   "outputs": [
    {
     "name": "stdout",
     "output_type": "stream",
     "text": [
      "24389\n"
     ]
    }
   ],
   "source": [
    "a=int(input(\"Enter the value\"))\n",
    "b=a**3\n",
    "print(b)"
   ]
  },
  {
   "cell_type": "markdown",
   "id": "c63f08b0",
   "metadata": {},
   "source": [
    "Program to perform logical operations using the \"and\", \"or\", and \"not\" operators.\n"
   ]
  },
  {
   "cell_type": "code",
   "execution_count": 24,
   "id": "ec329280",
   "metadata": {},
   "outputs": [
    {
     "name": "stdout",
     "output_type": "stream",
     "text": [
      "AND Operation done \n"
     ]
    }
   ],
   "source": [
    "a=int(input(\"Enter the first number\"))\n",
    "b=int(input(\"Enter the second number\"))\n",
    "c=int(input(\"Enter the third number \"))\n",
    "if(a<b and b<c and a<c):\n",
    "  print(\"AND Operation done \")\n",
    "elif(a<b or b<c or a<c):\n",
    "  print(\"OR Operation done\")\n",
    "elif not(a<b and b<c and a<c):\n",
    "  print(\"Answer is reversed\")\n",
    "          \n",
    "    \n",
    "\n",
    "\n"
   ]
  },
  {
   "cell_type": "code",
   "execution_count": null,
   "id": "22d220f2",
   "metadata": {},
   "outputs": [],
   "source": []
  }
 ],
 "metadata": {
  "kernelspec": {
   "display_name": "base",
   "language": "python",
   "name": "python3"
  },
  "language_info": {
   "codemirror_mode": {
    "name": "ipython",
    "version": 3
   },
   "file_extension": ".py",
   "mimetype": "text/x-python",
   "name": "python",
   "nbconvert_exporter": "python",
   "pygments_lexer": "ipython3",
   "version": "3.12.9"
  }
 },
 "nbformat": 4,
 "nbformat_minor": 5
}
