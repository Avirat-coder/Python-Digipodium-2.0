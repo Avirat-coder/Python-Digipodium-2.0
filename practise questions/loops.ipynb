{
 "cells": [
  {
   "cell_type": "markdown",
   "id": "05d6f2ed",
   "metadata": {},
   "source": [
    "- Write a program to print numbers from 1 to 10 using a for loop.\n",
    "- Write a program to print the multiplication table of a given number using a while loop.\n",
    "- Write a program to find the sum of all even numbers between 1 and 100 using a for loop.\n",
    "- Write a program to check if a given number is prime or not using a while loop.\n",
    "- Write a program to calculate the factorial of a number using a for loop.\n",
    "- Write a program to print the Fibonacci series up to a given limit using a for loop.\n",
    "- Write a program to find the largest element in an array using a for loop.\n",
    "- Write a program to reverse a given string using a while loop.\n",
    "- Write a program to print the ASCII values of all uppercase letters using a for loop.\n",
    "- Write a program to check if a given string is a palindrome using a for loop.\n",
    "- Write a program to calculate the average of a list of numbers using a for loop.\n",
    "- Write a program to find the smallest element in an array using a while loop.\n",
    "- Write a program to calculate the sum of digits of a number using a for loop.\n",
    "- Write a program to check if a given list of years has a leap year using a while loop.\n",
    "- Write a program to print the multiplication table of numbers from 1 to 5 using a for loop.\n",
    "- Write a program to find the factorial of a number using a for loop.\n",
    "- Write a program to count the number of vowels in a given string using a for loop.\n",
    "- Write a program to find the largest and smallest elements in an array using a for loop.\n",
    "- Write a program to reverse the order of words in a sentence using a while loop."
   ]
  },
  {
   "cell_type": "code",
   "execution_count": 1,
   "id": "14d20246",
   "metadata": {},
   "outputs": [
    {
     "name": "stdout",
     "output_type": "stream",
     "text": [
      "1\n",
      "2\n",
      "3\n",
      "4\n",
      "5\n",
      "6\n",
      "7\n",
      "8\n",
      "9\n",
      "10\n"
     ]
    }
   ],
   "source": [
    "for i in range(1,11):\n",
    "    print(i)"
   ]
  },
  {
   "cell_type": "code",
   "execution_count": 8,
   "id": "0fdb4a48",
   "metadata": {},
   "outputs": [
    {
     "name": "stdout",
     "output_type": "stream",
     "text": [
      "45 X 1=45\n",
      "45 X 2=90\n",
      "45 X 3=135\n",
      "45 X 4=180\n",
      "45 X 5=225\n",
      "45 X 6=270\n",
      "45 X 7=315\n",
      "45 X 8=360\n",
      "45 X 9=405\n",
      "45 X 10=450\n"
     ]
    }
   ],
   "source": [
    "a=int(input(\"Enter the number\"))\n",
    "i=1\n",
    "while(i<=10):\n",
    "    print(f\"{a} X {i}={a*i}\")\n",
    "    i+=1\n"
   ]
  },
  {
   "cell_type": "code",
   "execution_count": 16,
   "id": "112746aa",
   "metadata": {},
   "outputs": [
    {
     "name": "stdout",
     "output_type": "stream",
     "text": [
      "2550\n"
     ]
    }
   ],
   "source": [
    "sum_even=0\n",
    "for i in range(2,101,2):\n",
    "    sum_even+=i\n",
    "print(sum_even) \n",
    "          \n",
    "          \n",
    "        \n",
    "  \n",
    " "
   ]
  },
  {
   "cell_type": "code",
   "execution_count": 9,
   "id": "54693f7c",
   "metadata": {},
   "outputs": [
    {
     "name": "stdout",
     "output_type": "stream",
     "text": [
      "120\n"
     ]
    }
   ],
   "source": [
    "def factorial(x):\n",
    "    i = 1                      \n",
    "    while x > 1:              \n",
    "         i *= x                    \n",
    "         x -= 1\n",
    "    return i               \n",
    "                      \n",
    "\n",
    "b = factorial(5)\n",
    "print(b)\n"
   ]
  },
  {
   "cell_type": "code",
   "execution_count": 2,
   "id": "d1feb5d2",
   "metadata": {},
   "outputs": [
    {
     "name": "stdout",
     "output_type": "stream",
     "text": [
      "[14, 96, 78, 69, 1023]\n",
      "1023\n"
     ]
    }
   ],
   "source": [
    "number = list(map(int, input(\"Enter the numbers: \").split()))\n",
    "print(number)\n",
    "max_num=number[0]\n",
    "for i in number:\n",
    "    if(max_num)<i:\n",
    "       max_num=i\n",
    "print(max_num) \n",
    "\n",
    "\n",
    "    \n",
    "       \n",
    " \n",
    "\n",
    "\n"
   ]
  },
  {
   "cell_type": "code",
   "execution_count": 5,
   "id": "fee584a5",
   "metadata": {},
   "outputs": [
    {
     "name": "stdout",
     "output_type": "stream",
     "text": [
      "A=65\n",
      "B=66\n",
      "C=67\n",
      "D=68\n",
      "E=69\n",
      "F=70\n",
      "G=71\n",
      "H=72\n",
      "I=73\n",
      "J=74\n",
      "K=75\n",
      "L=76\n",
      "M=77\n",
      "N=78\n",
      "O=79\n",
      "P=80\n",
      "Q=81\n",
      "R=82\n",
      "S=83\n",
      "T=84\n",
      "U=85\n",
      "V=86\n",
      "W=87\n",
      "X=88\n",
      "Y=89\n"
     ]
    }
   ],
   "source": [
    "for char in range(65,90):\n",
    "    print(f\"{chr(char)}={char}\")\n"
   ]
  },
  {
   "cell_type": "code",
   "execution_count": 5,
   "id": "93b05dbb",
   "metadata": {},
   "outputs": [
    {
     "name": "stdout",
     "output_type": "stream",
     "text": [
      "E is 69\n"
     ]
    }
   ],
   "source": [
    "ascii_value=int(input(\"Enter the number between (65 to 122)\"))\n",
    "if (0<ascii_value<123):\n",
    "    character=chr(ascii_value)\n",
    "    print(f\"{chr(ascii_value)} is {ascii_value}\")\n",
    "else:\n",
    "    print(f\"{ascii_value} not in range\")    "
   ]
  },
  {
   "cell_type": "code",
   "execution_count": null,
   "id": "3746dca9",
   "metadata": {},
   "outputs": [
    {
     "name": "stdout",
     "output_type": "stream",
     "text": [
      "7\n"
     ]
    }
   ],
   "source": [
    "numbers = list(map(int, input(\"Enter numbers separated by space: \").split()))\n",
    "i=1\n",
    "min_num=numbers[0]\n",
    "while(i<=len(numbers)):\n",
    "    if(numbers[i]<min_num):\n",
    "        min_num=numbers[i]\n",
    "    i+=1\n",
    "print(min_num)    \n"
   ]
  },
  {
   "cell_type": "code",
   "execution_count": 2,
   "id": "d00fc983",
   "metadata": {},
   "outputs": [
    {
     "name": "stdout",
     "output_type": "stream",
     "text": [
      "14\n"
     ]
    }
   ],
   "source": [
    "number=list(map(int,input(\"Enter the numbers\").split()))\n",
    "min_number=number[0]\n",
    "for i in number:\n",
    "    if(i<min_number):\n",
    "        min_number=i\n",
    "print(min_number)        "
   ]
  },
  {
   "cell_type": "code",
   "execution_count": 5,
   "id": "03ad3f6f",
   "metadata": {},
   "outputs": [
    {
     "name": "stdout",
     "output_type": "stream",
     "text": [
      "2.0\n"
     ]
    }
   ],
   "source": [
    "a=list(map(int,input(\"Enter the numbers\").split()))\n",
    "sum=0\n",
    "for i in a:\n",
    "    sum+=i\n",
    "a_average=sum/len(a)    \n",
    "print(a_average)    \n"
   ]
  },
  {
   "cell_type": "code",
   "execution_count": null,
   "id": "45c41262",
   "metadata": {},
   "outputs": [
    {
     "name": "stdout",
     "output_type": "stream",
     "text": [
      "1974 is  leap year\n",
      "1980 is a leap year\n",
      "2004 is a leap year\n"
     ]
    }
   ],
   "source": [
    "a=list(map(int,input(\"Enter the year\").split()))\n",
    "for i in a:\n",
    "    if(i%4==0 and i%100!=0) or (i%400==0):\n",
    "        print(f\"{i} is a leap year\")\n",
    "    else:\n",
    "        print(f\"{i} is  leap year\")   \n"
   ]
  },
  {
   "cell_type": "code",
   "execution_count": 18,
   "id": "aedc608c",
   "metadata": {},
   "outputs": [
    {
     "name": "stdout",
     "output_type": "stream",
     "text": [
      "6\n"
     ]
    }
   ],
   "source": [
    "a=input(\"Enter the number\")\n",
    "sum_of_digit=0\n",
    "for i in a:\n",
    "    sum_of_digit+=int(i)\n",
    "print(sum_of_digit)    "
   ]
  },
  {
   "cell_type": "code",
   "execution_count": 51,
   "id": "25a260e7",
   "metadata": {},
   "outputs": [
    {
     "name": "stdout",
     "output_type": "stream",
     "text": [
      "3\n"
     ]
    }
   ],
   "source": [
    "a=input(\"Enter any string\")\n",
    "temp=0\n",
    "for i in a:\n",
    "    if(i in \"aeiouAEIOU\"):\n",
    "        temp+=1\n",
    "print(temp)\n",
    "             \n",
    "    "
   ]
  },
  {
   "cell_type": "code",
   "execution_count": 30,
   "id": "a8a54a5d",
   "metadata": {},
   "outputs": [
    {
     "name": "stdout",
     "output_type": "stream",
     "text": [
      "Multiplication table of 1 is \n",
      "1 X 1 = 1\n",
      "1 X 2 = 2\n",
      "1 X 3 = 3\n",
      "1 X 4 = 4\n",
      "1 X 5 = 5\n",
      "1 X 6 = 6\n",
      "1 X 7 = 7\n",
      "1 X 8 = 8\n",
      "1 X 9 = 9\n",
      "1 X 10 = 10\n",
      "Multiplication table of 2 is \n",
      "2 X 1 = 2\n",
      "2 X 2 = 4\n",
      "2 X 3 = 6\n",
      "2 X 4 = 8\n",
      "2 X 5 = 10\n",
      "2 X 6 = 12\n",
      "2 X 7 = 14\n",
      "2 X 8 = 16\n",
      "2 X 9 = 18\n",
      "2 X 10 = 20\n",
      "Multiplication table of 3 is \n",
      "3 X 1 = 3\n",
      "3 X 2 = 6\n",
      "3 X 3 = 9\n",
      "3 X 4 = 12\n",
      "3 X 5 = 15\n",
      "3 X 6 = 18\n",
      "3 X 7 = 21\n",
      "3 X 8 = 24\n",
      "3 X 9 = 27\n",
      "3 X 10 = 30\n",
      "Multiplication table of 4 is \n",
      "4 X 1 = 4\n",
      "4 X 2 = 8\n",
      "4 X 3 = 12\n",
      "4 X 4 = 16\n",
      "4 X 5 = 20\n",
      "4 X 6 = 24\n",
      "4 X 7 = 28\n",
      "4 X 8 = 32\n",
      "4 X 9 = 36\n",
      "4 X 10 = 40\n",
      "Multiplication table of 5 is \n",
      "5 X 1 = 5\n",
      "5 X 2 = 10\n",
      "5 X 3 = 15\n",
      "5 X 4 = 20\n",
      "5 X 5 = 25\n",
      "5 X 6 = 30\n",
      "5 X 7 = 35\n",
      "5 X 8 = 40\n",
      "5 X 9 = 45\n",
      "5 X 10 = 50\n"
     ]
    }
   ],
   "source": [
    "for num in range(1,6):\n",
    "    print(f\"Multiplication table of {num} is \")\n",
    "    for i in range(1,11):\n",
    "        print(f\"{num} X {i} = {num*i}\")"
   ]
  },
  {
   "cell_type": "code",
   "execution_count": 35,
   "id": "03d77158",
   "metadata": {},
   "outputs": [
    {
     "name": "stdout",
     "output_type": "stream",
     "text": [
      "120\n"
     ]
    }
   ],
   "source": [
    "a=int(input(\"Enter the number\"))\n",
    "num=1\n",
    "for i in range(1,a+1):\n",
    "    num*=i\n",
    "print(num)\n"
   ]
  },
  {
   "cell_type": "code",
   "execution_count": 57,
   "id": "eb46b384",
   "metadata": {},
   "outputs": [
    {
     "name": "stdout",
     "output_type": "stream",
     "text": [
      "9\n",
      "1\n"
     ]
    }
   ],
   "source": [
    "a=list(map(int,input(\"Enter the numbers\").split()))\n",
    "max_number=a[0]\n",
    "min_number=a[0]\n",
    "for i in a:\n",
    "    if(i>max_number):\n",
    "        max_number=i\n",
    "print(max_number)\n",
    "for j in a:\n",
    "    if(j<min_number):\n",
    "        min_number=j\n",
    "print(min_number)        \n",
    "\n"
   ]
  },
  {
   "cell_type": "code",
   "execution_count": 67,
   "id": "4688cde3",
   "metadata": {},
   "outputs": [
    {
     "name": "stdout",
     "output_type": "stream",
     "text": [
      "2024 is a leap year\n",
      "2032 is a leap year\n"
     ]
    }
   ],
   "source": [
    "a=list(map(int,input(\"Enter the year\").split()))\n",
    "i=0\n",
    "while(i<len(a)):\n",
    "    year=a[i]\n",
    "    if(year%4==0 and year%100!=0) or (year%400==0):\n",
    "        print(f'{year} is a leap year')\n",
    "    i+=1\n",
    "\n",
    "\n",
    "\n"
   ]
  },
  {
   "cell_type": "code",
   "execution_count": null,
   "id": "4206e68a",
   "metadata": {},
   "outputs": [],
   "source": []
  }
 ],
 "metadata": {
  "kernelspec": {
   "display_name": "Python 3",
   "language": "python",
   "name": "python3"
  },
  "language_info": {
   "codemirror_mode": {
    "name": "ipython",
    "version": 3
   },
   "file_extension": ".py",
   "mimetype": "text/x-python",
   "name": "python",
   "nbconvert_exporter": "python",
   "pygments_lexer": "ipython3",
   "version": "3.12.9"
  }
 },
 "nbformat": 4,
 "nbformat_minor": 5
}
