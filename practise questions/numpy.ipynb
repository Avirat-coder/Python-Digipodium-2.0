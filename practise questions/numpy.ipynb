{
 "cells": [
  {
   "cell_type": "markdown",
   "id": "46b71375",
   "metadata": {},
   "source": [
    "### Numpy\n",
    "1. Write a NumPy program to create an array of 10 zeros.\n",
    "\n",
    "2. Write a NumPy program to create an array of 10 ones.\n",
    "\n",
    "3. Write a NumPy program to create a 3x3 matrix with values ranging from 0 to 8.\n",
    "\n",
    "4. Write a NumPy program to reverse an array (first element becomes the last).\n",
    "\n",
    "5. Write a NumPy program to extract all odd numbers from an array.\n",
    "\n",
    "6. Write a NumPy program to compute the sum of all elements, mean, and standard deviation of a given array.\n",
    "\n",
    "7. Write a NumPy program to create a 5x5 matrix with random values and find the minimum and maximum values.\n",
    "\n",
    "8. Write a NumPy program to create a 2D array with 1 on the border and 0 inside.\n",
    "\n",
    "9. Write a NumPy program to multiply two given matrices.\n",
    "\n",
    "10. Write a NumPy program to find the unique elements of an array.\n",
    "\n",
    "11. Write a NumPy program to extract the elements in the odd-numbered columns of a 2D array.\n",
    "\n",
    "12. Write a NumPy program to extract the elements in the even-numbered rows of a 2D array.\n",
    "\n",
    "13. Write a NumPy program to extract a subarray from a given array. The subarray should include the first 3 rows and the columns from index 1 to 4 (inclusive).\n",
    "\n",
    "14. Write a NumPy program to reverse the order of elements in each column of a 2D array.\n",
    "\n",
    "15. Write a NumPy program to create a diagonal matrix from a given 1D array. The elements below the diagonal should be zero, and the elements above the diagonal should be squared."
   ]
  },
  {
   "cell_type": "code",
   "execution_count": 4,
   "id": "a4928264",
   "metadata": {},
   "outputs": [],
   "source": [
    "import numpy as np"
   ]
  },
  {
   "cell_type": "code",
   "execution_count": 27,
   "id": "35e7dabc",
   "metadata": {},
   "outputs": [
    {
     "name": "stdout",
     "output_type": "stream",
     "text": [
      "[0. 0. 0. 0. 0. 0. 0. 0. 0. 0.]\n"
     ]
    }
   ],
   "source": [
    "a=np.zeros(10)\n",
    "print(a)"
   ]
  },
  {
   "cell_type": "code",
   "execution_count": 28,
   "id": "3b395185",
   "metadata": {},
   "outputs": [
    {
     "name": "stdout",
     "output_type": "stream",
     "text": [
      "[1. 1. 1. 1. 1. 1. 1. 1. 1. 1.]\n"
     ]
    }
   ],
   "source": [
    "a=np.ones(10)\n",
    "print(a)"
   ]
  },
  {
   "cell_type": "code",
   "execution_count": 29,
   "id": "9bc050a4",
   "metadata": {},
   "outputs": [
    {
     "name": "stdout",
     "output_type": "stream",
     "text": [
      "[[0 1 2]\n",
      " [3 4 5]\n",
      " [6 7 8]]\n"
     ]
    }
   ],
   "source": [
    "b=np.arange(9).reshape(3,3)\n",
    "print(b)"
   ]
  },
  {
   "cell_type": "code",
   "execution_count": 30,
   "id": "abf199fc",
   "metadata": {},
   "outputs": [
    {
     "name": "stdout",
     "output_type": "stream",
     "text": [
      "[9 8 7 6 5 4 3 2 1]\n"
     ]
    }
   ],
   "source": [
    "a=np.array([1,2,3,4,5,6,7,8,9])\n",
    "reversed_a=a[::-1]\n",
    "print(reversed_a)"
   ]
  },
  {
   "cell_type": "code",
   "execution_count": 31,
   "id": "2a96ce4c",
   "metadata": {},
   "outputs": [
    {
     "name": "stdout",
     "output_type": "stream",
     "text": [
      "[1 5 9 3 5 7]\n",
      "[1 5 9 3 5 7]\n"
     ]
    }
   ],
   "source": [
    "a=np.array(list(map(int,input(\"ENter the numbers\").split())))\n",
    "b=np.array(list(filter(lambda x: x%2!=0,a)))\n",
    "print(a)\n",
    "print(b)"
   ]
  },
  {
   "cell_type": "code",
   "execution_count": 6,
   "id": "8b17c176",
   "metadata": {},
   "outputs": [
    {
     "name": "stdout",
     "output_type": "stream",
     "text": [
      "53\n",
      "5.3\n",
      "2.6095976701399777\n"
     ]
    }
   ],
   "source": [
    "a=np.array(list(map(int,input(\"Enter the number separated by space\").split())))\n",
    "b=sum(a)\n",
    "mean=b/len(a)\n",
    "sd=np.std(a)\n",
    "print(b)\n",
    "print(mean)\n",
    "print(sd)\n",
    "\n"
   ]
  },
  {
   "cell_type": "code",
   "execution_count": null,
   "id": "ca7faffe",
   "metadata": {},
   "outputs": [
    {
     "name": "stdout",
     "output_type": "stream",
     "text": [
      "[[0.53722461 0.21166994 0.49017704 0.09410987 0.43052757]\n",
      " [0.80059006 0.77490876 0.81011964 0.79059431 0.47693396]\n",
      " [0.41311343 0.27101672 0.35719504 0.59794107 0.78935282]\n",
      " [0.42992911 0.78336088 0.15871423 0.35755728 0.85676984]\n",
      " [0.5206059  0.2747119  0.25876745 0.35684941 0.55739187]]\n",
      "Maximum value is 0.8567698420764285\n",
      "Minimum value is 0.09410986743451444\n"
     ]
    }
   ],
   "source": [
    "a=np.random.random((5,5))\n",
    "print(a)\n",
    "print(\"Maximum value is\" ,a.max())\n",
    "print(\"Minimum value is\" ,a.min())"
   ]
  },
  {
   "cell_type": "code",
   "execution_count": 20,
   "id": "4245df58",
   "metadata": {},
   "outputs": [
    {
     "name": "stdout",
     "output_type": "stream",
     "text": [
      "[[1 1 1 1 1]\n",
      " [1 0 0 0 1]\n",
      " [1 0 0 0 1]\n",
      " [1 0 0 0 1]\n",
      " [1 1 1 1 1]]\n"
     ]
    }
   ],
   "source": [
    "r,c=5,5\n",
    "a=np.zeros((r,c),dtype=int)\n",
    "a[0,:]=1\n",
    "a[-1:]=1\n",
    "a[:,0]=1\n",
    "a[:,-1]=1\n",
    "print(a)"
   ]
  },
  {
   "cell_type": "code",
   "execution_count": 27,
   "id": "ae7a4428",
   "metadata": {},
   "outputs": [
    {
     "name": "stdout",
     "output_type": "stream",
     "text": [
      "Maatrix is \n",
      " [[17 10]\n",
      " [19  4]]\n",
      "Maatrix is \n",
      " [[ 4 16]\n",
      " [ 5 10]]\n",
      "Normal Multiplication is \n",
      "  [[ 68 160]\n",
      " [ 95  40]]\n",
      "Matrix Multiplication is \n",
      "  [[118 372]\n",
      " [ 96 344]]\n",
      "[[118 372]\n",
      " [ 96 344]]\n"
     ]
    }
   ],
   "source": [
    "a=np.random.randint(1,20,size=(2,2))\n",
    "b=np.random.randint(1,20,size=(2,2))\n",
    "c=a*b\n",
    "d=a@b\n",
    "print(\"Maatrix is \\n\",a)\n",
    "print(\"Maatrix is \\n\",b)\n",
    "print(\"Normal Multiplication is \\n \",c)\n",
    "print(\"Matrix Multiplication is \\n \",d)\n",
    "print(d)"
   ]
  },
  {
   "cell_type": "code",
   "execution_count": 34,
   "id": "f59c8e63",
   "metadata": {},
   "outputs": [
    {
     "name": "stdout",
     "output_type": "stream",
     "text": [
      "[1, 2, 3]\n"
     ]
    },
    {
     "data": {
      "text/plain": [
       "numpy.ndarray"
      ]
     },
     "execution_count": 34,
     "metadata": {},
     "output_type": "execute_result"
    }
   ],
   "source": [
    "a=np.array(list(map(int,input(\"Enter the number separated by space\").split())))\n",
    "b=np.array(list(map(int,input(\"Enter the number separated by space\").split())))\n",
    "unique_element=set(a)&set(b)\n",
    "c=[int(i) for i in a if i not in unique_element]\n",
    "print(c)\n",
    "c=np.array(c)\n",
    "type(c)"
   ]
  },
  {
   "cell_type": "code",
   "execution_count": 40,
   "id": "2097d8c6",
   "metadata": {},
   "outputs": [
    {
     "name": "stdout",
     "output_type": "stream",
     "text": [
      "[1 3 5]\n"
     ]
    }
   ],
   "source": [
    "a=np.array(list(map(int,input(\"Enter the number separated by space\").split())))\n",
    "b=np.array(list(filter(lambda x: x%2!=0,a)))\n",
    "print(b)"
   ]
  },
  {
   "cell_type": "code",
   "execution_count": 42,
   "id": "7c230c14",
   "metadata": {},
   "outputs": [
    {
     "name": "stdout",
     "output_type": "stream",
     "text": [
      "[2 4 6]\n"
     ]
    }
   ],
   "source": [
    "a=np.array(list(map(int,input(\"Enter the number separated by space\").split())))\n",
    "b=np.array(list(filter(lambda x: x%2==0,a)))\n",
    "print(b)"
   ]
  }
 ],
 "metadata": {
  "kernelspec": {
   "display_name": "base",
   "language": "python",
   "name": "python3"
  },
  "language_info": {
   "codemirror_mode": {
    "name": "ipython",
    "version": 3
   },
   "file_extension": ".py",
   "mimetype": "text/x-python",
   "name": "python",
   "nbconvert_exporter": "python",
   "pygments_lexer": "ipython3",
   "version": "3.12.9"
  }
 },
 "nbformat": 4,
 "nbformat_minor": 5
}
