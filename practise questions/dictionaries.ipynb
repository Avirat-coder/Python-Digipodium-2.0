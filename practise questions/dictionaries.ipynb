{
 "cells": [
  {
   "cell_type": "markdown",
   "id": "5d9de9c6",
   "metadata": {},
   "source": [
    "## Dictionary Practice Problems\n",
    "\n",
    "1. **Write a program to count the frequency of each character in a given string using a dictionary.**  \n",
    "   Sample data: `\"hello\"`  \n",
    "   *Hint:* Iterate through each character in the string and update the count in the dictionary.\n",
    "\n",
    "2. **Write a program to merge two dictionaries into a single dictionary.**  \n",
    "   Sample data:  \n",
    "   `dict1 = {\"a\": 1, \"b\": 2}`  \n",
    "   `dict2 = {\"c\": 3, \"d\": 4}`  \n",
    "   *Hint:* Use the `update()` method to merge the dictionaries.\n",
    "\n",
    "3. **Write a program to find the keys with the maximum value in a dictionary.**  \n",
    "   Sample data: `{\"a\": 10, \"b\": 5, \"c\": 10}`  \n",
    "   *Hint:* Use the `max()` function with a custom key argument.\n",
    "\n",
    "4. **Write a program to check if a given key exists in a dictionary.**  \n",
    "   Sample data: `{\"a\": 1, \"b\": 2, \"c\": 3}`  \n",
    "   *Hint:* Use the `in` operator.\n",
    "\n",
    "5. **Write a program to remove a specific key from a dictionary.**  \n",
    "   Sample data: `{\"a\": 1, \"b\": 2, \"c\": 3}`  \n",
    "   *Hint:* Use the `pop()` method.\n",
    "\n",
    "6. **Write a program to find the common keys in two dictionaries.**  \n",
    "   Sample data:  \n",
    "   `dict1 = {\"a\": 1, \"b\": 2, \"c\": 3}`  \n",
    "   `dict2 = {\"b\": 3, \"c\": 4, \"d\": 5}`  \n",
    "   *Hint:* Use the `keys()` method to compare.\n",
    "\n",
    "7. **Write a program to get the length of a dictionary.**  \n",
    "   Sample data: `{\"a\": 1, \"b\": 2, \"c\": 3}`  \n",
    "   *Hint:* Use the `len()` function.\n",
    "\n",
    "8. **Write a program to sort a dictionary by its keys in ascending order.**  \n",
    "   Sample data: `{\"b\": 2, \"a\": 1, \"c\": 3}`  \n",
    "   *Hint:* Use the `sorted()` function.\n",
    "\n",
    "9. **Write a program to find the key with the minimum value in a dictionary.**  \n",
    "   Sample data: `{\"a\": 10, \"b\": 5, \"c\": 15}`  \n",
    "   *Hint:* Use the `min()` function with a custom key.\n",
    "\n",
    "10. **Write a program to get the values of a dictionary as a list.**  \n",
    "    Sample data: `{\"a\": 1, \"b\": 2, \"c\": 3}`  \n",
    "    *Hint:* Use the `values()` method and convert to a list.\n",
    "\n",
    "11. **Write a program to check if a given value exists in a dictionary.**  \n",
    "    Sample data: `{\"a\": 1, \"b\": 2, \"c\": 3}`  \n",
    "    *Hint:* Use the `values()` method and `in` operator.\n",
    "\n",
    "12. **Write a program to create a dictionary with keys as numbers from 1 to 10 and their squares as values.**  \n",
    "    Sample data:  \n",
    "    Keys: `[1, 2, 3, ..., 10]`  \n",
    "    Values: `[1, 4, 9, ..., 100]`  \n",
    "    *Hint:* Use a `for` loop.\n",
    "\n",
    "13. **Write a program to find the difference between two dictionaries.**  \n",
    "    Sample data:  \n",
    "    `dict1 = {\"a\": 1, \"b\": 2, \"c\": 3}`  \n",
    "    `dict2 = {\"b\": 2, \"c\": 3, \"d\": 4}`  \n",
    "    *Hint:* Use `keys()` and `items()`.\n",
    "\n",
    "14. **Write a program to remove all the items from a dictionary.**  \n",
    "    Sample data: `{\"a\": 1, \"b\": 2, \"c\": 3}`  \n",
    "    *Hint:* Use the `clear()` method.\n",
    "\n",
    "15. **Write a program to convert a dictionary into a list of tuples.**  \n",
    "    Sample data: `{\"a\": 1, \"b\": 2, \"c\": 3}`  \n",
    "    *Hint:* Use the `items()` method.\n",
    "\n",
    "16. **Write a program to check if all the values in a dictionary are unique.**  \n",
    "    Sample data: `{\"a\": 1, \"b\": 2, \"c\": 3}`  \n",
    "    *Hint:* Use a set to compare values.\n",
    "\n",
    "17. **Write a program to extract all the values from nested dictionaries into a single list.**  \n",
    "    Sample data: `{\"a\": 1, \"b\": {\"c\": 2, \"d\": 3}, \"e\": 4}`  \n",
    "    *Hint:* Use recursion.\n",
    "\n",
    "18. **Write a program to find the key-value pairs that have the highest values in a dictionary.**  \n",
    "    Sample data: `{\"a\": 10, \"b\": 5, \"c\": 10}`  \n",
    "    *Hint:* Use `items()` and `max()`.\n",
    "\n",
    "19. **Write a program to create a dictionary from two lists, one containing keys and the other containing values.**  \n",
    "    Sample data:  \n",
    "    Keys: `[\"a\", \"b\", \"c\"]`  \n",
    "    Values: `[1, 2, 3]`  \n",
    "    *Hint:* Use the `zip()` function.\n",
    "\n",
    "20. **Write a program to iterate over a dictionary and print the keys and values.**  \n",
    "    Sample data: `{\"a\": 1, \"b\": 2, \"c\": 3}`  \n",
    "    *Hint:* Use a `for` loop and `items()`.\n"
   ]
  },
  {
   "cell_type": "code",
   "execution_count": 2,
   "id": "4051728d",
   "metadata": {},
   "outputs": [
    {
     "name": "stdout",
     "output_type": "stream",
     "text": [
      "frequency in the word is:\n",
      "a:1\n",
      "p:2\n",
      "l:1\n",
      "e:1\n"
     ]
    }
   ],
   "source": [
    "a=input(\"Enter the word\")\n",
    "frequency={}\n",
    "for i in a:\n",
    "    if(i in frequency):\n",
    "        frequency[i]+=1\n",
    "    else:\n",
    "        frequency[i]=1\n",
    "print(\"frequency in the word is:\")\n",
    "for key,value in frequency.items():\n",
    "    print(f\"{key}:{value}\")            "
   ]
  },
  {
   "cell_type": "code",
   "execution_count": 4,
   "id": "684b8615",
   "metadata": {},
   "outputs": [
    {
     "name": "stdout",
     "output_type": "stream",
     "text": [
      "{'a': 1, 'b': 2, 'c': 3, 'd': 4}\n"
     ]
    }
   ],
   "source": [
    "dict1 = {\"a\": 1, \"b\": 2}\n",
    "dict2 = {\"c\": 3, \"d\": 4}\n",
    "dict1.update(dict2)\n",
    "print(dict1)"
   ]
  },
  {
   "cell_type": "code",
   "execution_count": null,
   "id": "c7cc0d09",
   "metadata": {},
   "outputs": [
    {
     "name": "stdout",
     "output_type": "stream",
     "text": [
      "['a', 'c']\n"
     ]
    }
   ],
   "source": [
    "a={\"a\": 10, \"b\": 5, \"c\": 10}\n",
    "max_values=max(a.values())\n",
    "max_key=[key for key,value in a.items() if value==max_values]\n",
    "print(max_key)\n"
   ]
  },
  {
   "cell_type": "code",
   "execution_count": null,
   "id": "6d6551c5",
   "metadata": {},
   "outputs": [
    {
     "name": "stdout",
     "output_type": "stream",
     "text": [
      "g is Not found\n"
     ]
    }
   ],
   "source": [
    "a={\"a\": 1, \"b\": 2, \"c\": 3}\n",
    "b=input(\"Enter the key\")\n",
    "if(b in a):\n",
    "    print(f\"{b} is present\")\n",
    "else:\n",
    "    print(f\"{b} is Not found\")    \n"
   ]
  },
  {
   "cell_type": "code",
   "execution_count": 42,
   "id": "880bc8fe",
   "metadata": {},
   "outputs": [
    {
     "name": "stdout",
     "output_type": "stream",
     "text": [
      "{'b': 2, 'c': 3}\n"
     ]
    }
   ],
   "source": [
    "a={\"a\": 1, \"b\": 2, \"c\": 3}\n",
    "b=input(\"Enter the key you want to pop\")\n",
    "if(b in a):\n",
    "  a.pop(b)\n",
    "  print(a)\n",
    "else:\n",
    "  print(f\"{b} is not present in the a\")"
   ]
  },
  {
   "cell_type": "code",
   "execution_count": null,
   "id": "c1b4dae7",
   "metadata": {},
   "outputs": [
    {
     "name": "stdout",
     "output_type": "stream",
     "text": [
      "{'c', 'b'}\n"
     ]
    },
    {
     "data": {
      "text/plain": [
       "set"
      ]
     },
     "execution_count": 59,
     "metadata": {},
     "output_type": "execute_result"
    }
   ],
   "source": [
    "dict1 = {\"a\": 1, \"b\": 2, \"c\": 3}\n",
    "dict2 = {\"b\": 3, \"c\": 4, \"d\": 5}\n",
    "b=set(dict2.keys())\n",
    "a=set(dict1.keys())\n",
    "common_element=a&b\n",
    "print(common_element)\n",
    "type(a)\n",
    "\n"
   ]
  },
  {
   "cell_type": "code",
   "execution_count": null,
   "id": "174da3ab",
   "metadata": {},
   "outputs": [
    {
     "name": "stdout",
     "output_type": "stream",
     "text": [
      "4\n"
     ]
    }
   ],
   "source": [
    "z={\"a\": 1, \"b\": 2, \"c\": 3, \"d\":4}\n",
    "y=len(z)\n",
    "print(y)"
   ]
  },
  {
   "cell_type": "code",
   "execution_count": 64,
   "id": "cd7c433c",
   "metadata": {},
   "outputs": [
    {
     "name": "stdout",
     "output_type": "stream",
     "text": [
      "{'a': 1, 'b': 2, 'c': 3}\n"
     ]
    }
   ],
   "source": [
    "a={\"b\": 2, \"a\": 1, \"c\": 3}\n",
    "b=dict(sorted(a.items()))\n",
    "print(b)\n"
   ]
  },
  {
   "cell_type": "code",
   "execution_count": 71,
   "id": "e652e1d5",
   "metadata": {},
   "outputs": [
    {
     "name": "stdout",
     "output_type": "stream",
     "text": [
      "['b']\n"
     ]
    }
   ],
   "source": [
    "a={\"a\": 10, \"b\": 5, \"c\": 15}\n",
    "min_values=min(a.values())\n",
    "min_key=[key for key,value in a.items() if value==min_values]\n",
    "print(min_key)"
   ]
  },
  {
   "cell_type": "code",
   "execution_count": 5,
   "id": "920c8fcd",
   "metadata": {},
   "outputs": [
    {
     "name": "stdout",
     "output_type": "stream",
     "text": [
      "['a', 'b', 'c']\n"
     ]
    }
   ],
   "source": [
    "a={\"a\": 1, \"b\": 2, \"c\": 3}\n",
    "b=list(a.keys())\n",
    "print(b)"
   ]
  },
  {
   "cell_type": "code",
   "execution_count": 84,
   "id": "8f132e0e",
   "metadata": {},
   "outputs": [
    {
     "name": "stdout",
     "output_type": "stream",
     "text": [
      "3 exist in {'a': 1, 'b': 2, 'c': 3}\n"
     ]
    }
   ],
   "source": [
    "a={\"a\": 1, \"b\": 2, \"c\":3}\n",
    "b=int(input(\"Enter the value\"))\n",
    "if (b in a.values()):\n",
    "    print(f\"{b} exist in {a}\")\n",
    "else:\n",
    "    print(\"does not exist\")    "
   ]
  },
  {
   "cell_type": "code",
   "execution_count": 89,
   "id": "1fcba5f3",
   "metadata": {},
   "outputs": [
    {
     "name": "stdout",
     "output_type": "stream",
     "text": [
      "{1: 1, 2: 4, 3: 9, 4: 16, 5: 25, 6: 36, 7: 49, 8: 64, 9: 81, 10: 100}\n"
     ]
    }
   ],
   "source": [
    "squares_dict = {}\n",
    "for i in range(1, 11):\n",
    "    squares_dict[i] = i ** 2\n",
    "\n",
    "print(squares_dict)\n",
    "       \n"
   ]
  },
  {
   "cell_type": "code",
   "execution_count": 4,
   "id": "575047d1",
   "metadata": {},
   "outputs": [
    {
     "name": "stdout",
     "output_type": "stream",
     "text": [
      "{'a': 1, 'd': 4}\n"
     ]
    }
   ],
   "source": [
    "dict1 = {\"a\": 1, \"b\": 2, \"c\": 3}  \n",
    "dict2 = {\"b\": 2, \"c\": 3, \"d\": 4}\n",
    "difference=dict(sorted(set(dict1.items())^set(dict2.items())))\n",
    "print(difference)\n"
   ]
  },
  {
   "cell_type": "code",
   "execution_count": 6,
   "id": "3c97c160",
   "metadata": {},
   "outputs": [
    {
     "name": "stdout",
     "output_type": "stream",
     "text": [
      "{}\n"
     ]
    }
   ],
   "source": [
    "a={\"a\": 1, \"b\": 2, \"c\": 3}\n",
    "a.clear()\n",
    "print(a)"
   ]
  },
  {
   "cell_type": "code",
   "execution_count": 9,
   "id": "f0b0c9c0",
   "metadata": {},
   "outputs": [
    {
     "data": {
      "text/plain": [
       "dict_items([('a', 1), ('b', 2), ('c', 3)])"
      ]
     },
     "execution_count": 9,
     "metadata": {},
     "output_type": "execute_result"
    }
   ],
   "source": [
    "a={\"a\": 1, \"b\": 2, \"c\": 3}\n",
    "a.items()"
   ]
  },
  {
   "cell_type": "code",
   "execution_count": 6,
   "id": "bfe14247",
   "metadata": {},
   "outputs": [
    {
     "name": "stdout",
     "output_type": "stream",
     "text": [
      "[('a', 1), ('b', 2), ('c', 3)]\n"
     ]
    },
    {
     "data": {
      "text/plain": [
       "list"
      ]
     },
     "execution_count": 6,
     "metadata": {},
     "output_type": "execute_result"
    }
   ],
   "source": [
    "a={\"a\": 1, \"b\": 2, \"c\": 3}\n",
    "tuple_list=list(a.items())\n",
    "print(tuple_list)\n",
    "type(tuple_list)"
   ]
  },
  {
   "cell_type": "code",
   "execution_count": 14,
   "id": "871d19fa",
   "metadata": {},
   "outputs": [
    {
     "name": "stdout",
     "output_type": "stream",
     "text": [
      "All values are unique\n"
     ]
    }
   ],
   "source": [
    "a={\"a\": 1, \"b\": 2, \"c\": 3}\n",
    "if len(a.values())==len(set(a.values())):\n",
    "    print(\"All values are unique\")\n",
    "else:\n",
    "    print(\"No they are not unique\")    "
   ]
  },
  {
   "cell_type": "code",
   "execution_count": null,
   "id": "529dc235",
   "metadata": {},
   "outputs": [
    {
     "name": "stdout",
     "output_type": "stream",
     "text": [
      "[('a', 10), ('c', 10)]\n"
     ]
    }
   ],
   "source": [
    "a={\"a\": 10, \"b\": 5, \"c\": 10}\n",
    "max_value=max(a.values())\n",
    "result=[(key,value) for key,value in a.items() if value==max_value]\n",
    "print(result)\n",
    "\n"
   ]
  },
  {
   "cell_type": "code",
   "execution_count": 24,
   "id": "e4af1bd1",
   "metadata": {},
   "outputs": [
    {
     "name": "stdout",
     "output_type": "stream",
     "text": [
      "{'a': 1, 'b': 2, 'c': 3}\n"
     ]
    }
   ],
   "source": [
    "a=[\"a\",\"b\",\"c\"] \n",
    "b=[1, 2, 3]\n",
    "c=dict(zip(a,b))\n",
    "print(c)\n"
   ]
  },
  {
   "cell_type": "code",
   "execution_count": 26,
   "id": "7af9e021",
   "metadata": {},
   "outputs": [
    {
     "name": "stdout",
     "output_type": "stream",
     "text": [
      "[('a', 1), ('b', 2), ('c', 3)]\n"
     ]
    }
   ],
   "source": [
    "a={\"a\": 1, \"b\": 2, \"c\": 3}\n",
    "result=[(key,value) for key,value in a.items()]\n",
    "print(result)"
   ]
  },
  {
   "cell_type": "code",
   "execution_count": null,
   "id": "5646a937",
   "metadata": {},
   "outputs": [],
   "source": []
  }
 ],
 "metadata": {
  "kernelspec": {
   "display_name": "base",
   "language": "python",
   "name": "python3"
  },
  "language_info": {
   "codemirror_mode": {
    "name": "ipython",
    "version": 3
   },
   "file_extension": ".py",
   "mimetype": "text/x-python",
   "name": "python",
   "nbconvert_exporter": "python",
   "pygments_lexer": "ipython3",
   "version": "3.12.9"
  }
 },
 "nbformat": 4,
 "nbformat_minor": 5
}
