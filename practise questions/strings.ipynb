{
 "cells": [
  {
   "cell_type": "markdown",
   "id": "ea232414",
   "metadata": {},
   "source": [
    "#  Python String Practice Tasks\n",
    "\n",
    "### 1. Create a string and print it.\n",
    "\n",
    "### 2. Take a string input and print its length.\n",
    "\n",
    "### 3. Print the last word of the string `Python is great` using slices.\n",
    "\n",
    "### 4. Print each word on a different line from the string `python is everywhere`.\n",
    "\n",
    "### 5. Print the string `Hello World!` in reverse.\n",
    "\n",
    "### 6. Convert the string `How are you?` to uppercase.\n",
    "\n",
    "### 7. Convert the string `How Is It Going?` to lowercase.\n",
    "\n",
    "### 8. Join the following list with spaces and print the result:  \n",
    "`words = ['Python', 'is', 'easy', 'to', 'learn']`\n",
    "\n",
    "### 9. Print a multiline string using a single print statement.\n",
    "\n",
    "### 10. Print this exact string:  \n",
    "`to move to newline '\\n' is used.`\n",
    "\n",
    "### 11. Print a variable with some text using a single print function.  \n",
    "Output should look like:  \n",
    "`the variable is 15`\n",
    "\n",
    "### 12. Concatenate the following strings and print the result:  \n",
    "`s1 = 'python '`  \n",
    "`s2 = 'is '`  \n",
    "`s3 = 'great.'`\n",
    "\n",
    "### 13. Print `#` 20 times without using a loop.\n",
    "\n",
    "### 14. Print numbers from 1 to 9, each on a separate line, followed by a dot.  \n",
    "Example:  \n",
    "\n",
    "### 15. Ask the user to input a sentence and print each word on a different line.\n",
    "\n",
    "### 16. Ask the user to input a string and check if it ends with a `?`.\n",
    "\n",
    "### 17. Ask the user to input a string and print how many times `e` appeared in it.\n",
    "\n",
    "### 18. Check if the user input is a number.\n",
    "\n",
    "### 19. Remove the extra spaces at the beginning and end of this string:  \n",
    "`text = '   this is not a good string           '`\n",
    "\n",
    "### 20. Ask the user to input a string, print `found` if any character is uppercase.\n",
    "\n",
    "### 21. Extract names from the following string and store them in a list:  \n",
    "`names = 'Joe, David, Mark, Tom, Chris, Robert'`\n",
    "\n",
    "### 22. In the following string, add `aye` at the end of every word and print the result:  \n",
    "`text = 'this is some text'`\n",
    "\n",
    "### 23. Ask the user to enter a string and check if it contains `\"fyi\"`.\n",
    "\n",
    "### 24. Remove all the special characters and numbers from the following string:  \n",
    "`text = '%p34@y!*-*!t68h#&on404'`\n",
    "\n",
    "### 25. Calculate the average word length of the following paragraph:  \n",
    "`this is a paragraph which is written just for the purpose of providing content to let the average word length be calculated`\n",
    "\n",
    "\n",
    "\n",
    "\n",
    "\n",
    "\n",
    "\n"
   ]
  },
  {
   "cell_type": "code",
   "execution_count": 1,
   "id": "75cbfefb",
   "metadata": {},
   "outputs": [
    {
     "name": "stdout",
     "output_type": "stream",
     "text": [
      "Avirat\n"
     ]
    }
   ],
   "source": [
    "a=input(\"Enter any word\")\n",
    "print(a)"
   ]
  },
  {
   "cell_type": "code",
   "execution_count": 5,
   "id": "e3f35c2a",
   "metadata": {},
   "outputs": [
    {
     "name": "stdout",
     "output_type": "stream",
     "text": [
      "The length of string apple is 5\n"
     ]
    }
   ],
   "source": [
    "b=input(\"Enter any word\")\n",
    "c=len(b)\n",
    "print(f\"The length of string {b} is {c}\")"
   ]
  },
  {
   "cell_type": "code",
   "execution_count": 9,
   "id": "faf1b9ea",
   "metadata": {},
   "outputs": [
    {
     "name": "stdout",
     "output_type": "stream",
     "text": [
      "t\n"
     ]
    }
   ],
   "source": [
    "c='Python is Great'\n",
    "print(c[-1])"
   ]
  },
  {
   "cell_type": "code",
   "execution_count": 1,
   "id": "abc38921",
   "metadata": {},
   "outputs": [
    {
     "name": "stdout",
     "output_type": "stream",
     "text": [
      "Python\n",
      "is\n",
      "everywhere\n"
     ]
    }
   ],
   "source": [
    "d='Python is everywhere'\n",
    "for i in d.split():\n",
    "   print(i)"
   ]
  },
  {
   "cell_type": "code",
   "execution_count": 15,
   "id": "ecebed3c",
   "metadata": {},
   "outputs": [
    {
     "name": "stdout",
     "output_type": "stream",
     "text": [
      "dlroW olleH\n"
     ]
    }
   ],
   "source": [
    "e='Hello World'\n",
    "print(e[::-1])"
   ]
  },
  {
   "cell_type": "code",
   "execution_count": 16,
   "id": "e542171e",
   "metadata": {},
   "outputs": [
    {
     "data": {
      "text/plain": [
       "'HOW ARE YOU?'"
      ]
     },
     "execution_count": 16,
     "metadata": {},
     "output_type": "execute_result"
    }
   ],
   "source": [
    "f=\"How Are You?\"\n",
    "f.upper()"
   ]
  },
  {
   "cell_type": "code",
   "execution_count": 17,
   "id": "3d59e78e",
   "metadata": {},
   "outputs": [
    {
     "data": {
      "text/plain": [
       "'how it is going'"
      ]
     },
     "execution_count": 17,
     "metadata": {},
     "output_type": "execute_result"
    }
   ],
   "source": [
    "g='How It Is Going'\n",
    "g.lower()"
   ]
  },
  {
   "cell_type": "code",
   "execution_count": 21,
   "id": "d08fe57a",
   "metadata": {},
   "outputs": [
    {
     "name": "stdout",
     "output_type": "stream",
     "text": [
      "Python is easy to learn\n"
     ]
    }
   ],
   "source": [
    "words = ['Python', 'is', 'easy', 'to', 'learn']\n",
    "results=\" \".join(words)\n",
    "print(results)"
   ]
  },
  {
   "cell_type": "code",
   "execution_count": 25,
   "id": "2ad87e0e",
   "metadata": {},
   "outputs": [
    {
     "name": "stdout",
     "output_type": "stream",
     "text": [
      "Hello \n",
      "My name Is Avirat\n",
      "How Are You\n"
     ]
    }
   ],
   "source": [
    "h=\"\"\"Hello \n",
    "My name Is Avirat\n",
    "How Are You\"\"\"\n",
    "print(h)"
   ]
  },
  {
   "cell_type": "code",
   "execution_count": 30,
   "id": "1f5790ad",
   "metadata": {},
   "outputs": [
    {
     "name": "stdout",
     "output_type": "stream",
     "text": [
      "To move to a new line '\\n' is used\n"
     ]
    }
   ],
   "source": [
    "a=(\"To move to a new line '\\\\n' is used\")\n",
    "print(a)"
   ]
  },
  {
   "cell_type": "code",
   "execution_count": 31,
   "id": "cdd76ce4",
   "metadata": {},
   "outputs": [
    {
     "name": "stdout",
     "output_type": "stream",
     "text": [
      "Python Is Great.\n"
     ]
    }
   ],
   "source": [
    "s1=\"Python\"\n",
    "s2=\"Is\"\n",
    "s3=\"Great.\"\n",
    "s4= s1+\" \"+s2+\" \"+s3\n",
    "print(s4)\n"
   ]
  },
  {
   "cell_type": "code",
   "execution_count": 3,
   "id": "1d33c2b8",
   "metadata": {},
   "outputs": [
    {
     "name": "stdout",
     "output_type": "stream",
     "text": [
      "####################\n"
     ]
    }
   ],
   "source": [
    "print(\"#\"*20)"
   ]
  },
  {
   "cell_type": "code",
   "execution_count": 36,
   "id": "9c40b484",
   "metadata": {},
   "outputs": [
    {
     "name": "stdout",
     "output_type": "stream",
     "text": [
      "1.\n",
      "2.\n",
      "3.\n",
      "4.\n",
      "5.\n",
      "6.\n",
      "7.\n",
      "8.\n",
      "9.\n"
     ]
    }
   ],
   "source": [
    "for i in range(1,10):\n",
    "    print(f\"{i}.\")"
   ]
  },
  {
   "cell_type": "code",
   "execution_count": 5,
   "id": "45a2b58c",
   "metadata": {},
   "outputs": [
    {
     "name": "stdout",
     "output_type": "stream",
     "text": [
      "H\n",
      "i\n",
      " \n",
      "w\n",
      "a\n",
      "t\n",
      "s\n",
      "u\n",
      "p\n",
      "p\n"
     ]
    }
   ],
   "source": [
    "a=input(\"Enter the sentence\")\n",
    "for i in a:\n",
    "    print(i)"
   ]
  },
  {
   "cell_type": "code",
   "execution_count": 8,
   "id": "e16a5967",
   "metadata": {},
   "outputs": [
    {
     "name": "stdout",
     "output_type": "stream",
     "text": [
      "avirar? has ?\n"
     ]
    }
   ],
   "source": [
    "a=input(\"Enter any string\")\n",
    "if('?' in a[-1]):\n",
    "    print(f\"{a} has ?\")\n",
    "else:\n",
    "    print(f\"{a} does not have ?\")    "
   ]
  },
  {
   "cell_type": "code",
   "execution_count": 15,
   "id": "579cb51d",
   "metadata": {},
   "outputs": [
    {
     "name": "stdout",
     "output_type": "stream",
     "text": [
      "1\n"
     ]
    }
   ],
   "source": [
    "a=input(\"Enter the word\")\n",
    "count=a.count('e')\n",
    "print(count)\n",
    "\n",
    "  \n",
    "\n",
    "   "
   ]
  },
  {
   "cell_type": "code",
   "execution_count": 22,
   "id": "c34bff92",
   "metadata": {},
   "outputs": [
    {
     "name": "stdout",
     "output_type": "stream",
     "text": [
      "It is a number\n"
     ]
    }
   ],
   "source": [
    "a=(input(\"Enter the value\"))\n",
    "if(a.isdigit()):\n",
    "    print(\"It is a number\")\n",
    "else:\n",
    "    print(\"No its not\")    "
   ]
  },
  {
   "cell_type": "code",
   "execution_count": null,
   "id": "20dcdaad",
   "metadata": {},
   "outputs": [
    {
     "name": "stdout",
     "output_type": "stream",
     "text": [
      "this is not a good string\n"
     ]
    }
   ],
   "source": [
    "a = '   this is not a good string           '\n",
    "b = a.strip()\n",
    "print(b)"
   ]
  },
  {
   "cell_type": "code",
   "execution_count": 34,
   "id": "da72ffe4",
   "metadata": {},
   "outputs": [],
   "source": [
    "a=input(\"Enter any string\")\n",
    "for i in a:\n",
    "    if i.isupper():\n",
    "        print(\"found\")\n",
    "    \n",
    "   "
   ]
  },
  {
   "cell_type": "code",
   "execution_count": 45,
   "id": "0fd4ff30",
   "metadata": {},
   "outputs": [
    {
     "name": "stdout",
     "output_type": "stream",
     "text": [
      "['Joe,', 'David,', 'Mark,', 'Tom,', 'Chris,', 'Robert']\n"
     ]
    },
    {
     "data": {
      "text/plain": [
       "list"
      ]
     },
     "execution_count": 45,
     "metadata": {},
     "output_type": "execute_result"
    }
   ],
   "source": [
    "a= 'Joe, David, Mark, Tom, Chris, Robert'\n",
    "b=a.split()\n",
    "print(b)\n",
    "type(b)"
   ]
  },
  {
   "cell_type": "code",
   "execution_count": 3,
   "id": "f5d1c801",
   "metadata": {},
   "outputs": [
    {
     "name": "stdout",
     "output_type": "stream",
     "text": [
      "thisaye isaye someaye textaye\n"
     ]
    }
   ],
   "source": [
    "a=\"this is some text\"\n",
    "b=a.split()\n",
    "modified_list=[]\n",
    "for i in b:\n",
    "    modified_word=i+\"aye\"\n",
    "    modified_list.append(modified_word)\n",
    "print(\" \".join(modified_list))"
   ]
  },
  {
   "cell_type": "code",
   "execution_count": null,
   "id": "f6467d24",
   "metadata": {},
   "outputs": [
    {
     "name": "stdout",
     "output_type": "stream",
     "text": [
      " \n"
     ]
    }
   ],
   "source": [
    "a=input(\"Enter the string\")\n",
    "if(\"fyi\" in a.lower()):\n",
    "    print(\"It contain fyi\")\n",
    "else:\n",
    "    print(\" \")    "
   ]
  },
  {
   "cell_type": "code",
   "execution_count": 26,
   "id": "6c00b970",
   "metadata": {},
   "outputs": [
    {
     "name": "stdout",
     "output_type": "stream",
     "text": [
      "python\n"
     ]
    }
   ],
   "source": [
    "text = '%p34@y!*-*!t68h#&on404'\n",
    "clean_text=''\n",
    "for i in text:\n",
    "    if i.isalpha():\n",
    "        clean_text+=i\n",
    "print(clean_text)        "
   ]
  },
  {
   "cell_type": "code",
   "execution_count": 32,
   "id": "6ed0a29c",
   "metadata": {},
   "outputs": [
    {
     "name": "stdout",
     "output_type": "stream",
     "text": [
      "4\n"
     ]
    }
   ],
   "source": [
    "a=\"this is a paragraph which is written just for the purpose of providing content to let the average word length be calculated\"\n",
    "b=a.split()\n",
    "sum=0\n",
    "for i in b:\n",
    "    sum+=len(i)\n",
    "avg=sum//len(b)   \n",
    "print(avg)\n",
    "\n"
   ]
  }
 ],
 "metadata": {
  "kernelspec": {
   "display_name": "base",
   "language": "python",
   "name": "python3"
  },
  "language_info": {
   "codemirror_mode": {
    "name": "ipython",
    "version": 3
   },
   "file_extension": ".py",
   "mimetype": "text/x-python",
   "name": "python",
   "nbconvert_exporter": "python",
   "pygments_lexer": "ipython3",
   "version": "3.12.9"
  }
 },
 "nbformat": 4,
 "nbformat_minor": 5
}
