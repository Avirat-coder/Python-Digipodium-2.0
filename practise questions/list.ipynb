{
 "cells": [
  {
   "cell_type": "markdown",
   "id": "fb264885",
   "metadata": {},
   "source": [
    "# Lists\n",
    "- Write a program that creates an empty list and then asks the user to input integers to add to the list. Print the final list.\n",
    "- Write a program that creates a list of integers and then asks the user to input an integer to check if it exists in the list. Print a message indicating whether the integer is in the list or not.\n",
    "- Write a program that creates a list of strings and then sorts the list alphabetically. Print the sorted list.\n",
    "- Write a program that creates a list of integers and then finds the maximum value in the list. Print the maximum value.\n",
    "- Write a program that creates two lists of integers and then finds the common elements between those two lists. Print the common elements.\n",
    "- Write a program that creates a list of strings and then removes all elements that contain a specific substring. Print the final list.\n",
    "- Write a program that creates a nested list and then accesses a specific element in the list. Print the accessed element.\n",
    "- Write a program that creates a list of integers and then removes all duplicates from the list. Print the final list.\n",
    "- Write a program that creates a list of strings and then finds the longest string in the list. Print the longest string.\n",
    "- Write a program that creates a list of integers and then finds the sum of all the even numbers in the list. Print the sum.\n",
    "- Write a program that creates a list of integers and then asks the user to input a position to remove an element from the list. Print the final list.\n",
    "- Write a program that creates a list of strings and then concatenates all the strings into a single string. Print the final string.\n",
    "- Write a program that creates a list of integers and then finds the median value of the list. Print the median.\n",
    "- Write a program that creates a list of strings and then reverses the order of the strings in the list. Print the reversed list.\n",
    "- Write a program that creates a list of integers and then calculates the average of all the numbers in the list. Print the average.\n",
    "- Write a program that creates a list of integers and then finds the index of a specific element in the list. Print the index.\n",
    "- Write a program that creates a list of strings and then removes all whitespace characters from each string in the list. Print the final list.\n",
    "- Write a program that creates a list of integers and then sorts the list in descending order. Print the sorted list.\n",
    "- Write a program that creates a list of integers and then asks the user to input a value to add to the list. Add the value to the beginning of the list and print the final list.\n",
    "- Write a program that creates two lists of integers and then concatenates those two lists into a single list. Print the final list.\n",
    "- Write a program that uses the map function to create a new list that contains the squares of each element in a user inputted list of integers.\n",
    "- Write a program that uses a lambda expression and the map function to convert a list of integers to a list of strings. Print the new list.\n",
    "- Write a program that uses a lambda expression and the map function to add 10 to each element in a list of integers. Print the new list.\n",
    "- Write a program that uses the map function to create a new list that contains the first letter of each string in a user inputted list of strings.\n",
    "- Write a program that uses a lambda expression and the map function to convert a list of Celsius temperatures to a list of Fahrenheit temperatures. Print the new list.\n",
    "- Write a program that uses a lambda expression and the map function to convert a list of strings to a list of integers. Print the new list.\n",
    "- Write a program that uses the map function to create a new list that contains the length of each string in a user inputted list of strings.\n",
    "- Write a program that uses a lambda expression and the map function to calculate the square root of each element in a list of integers. Print the new list.\n",
    "- Write a program that uses a lambda expression and the map function to convert a list of integers to their absolute values. Print the new list.\n",
    "- Write a program that uses the map function to create a new list that contains the uppercase version of each string in a user inputted list of strings.\n",
    "- Write a program that uses the filter function to create a new list that contains only the even numbers from a user inputted list of integers.\n",
    "- Write a program that uses a lambda expression and the filter function to create a new list that contains only the strings that start with a vowel from a user inputted list of strings.\n",
    "- Write a program that uses the filter function to create a new list that contains only the strings with a length greater than 5 from a user inputted list of strings.\n",
    "- Write a program that uses a lambda expression and the filter function to create a new list that contains only the positive numbers from a user inputted list of integers.\n",
    "- Write a program that uses the filter function to create a new list that contains only the strings that contain the letter \"e\" from a user inputted list of strings.\n",
    "- Write a program that creates a nested list from two user inputted lists of integers. The resulting nested list should contain each element of the first list paired with the corresponding element of the second list.\n",
    "```\n",
    "Example input: [1, 2, 3], [4, 5, 6]\n",
    "Example output: [[1, 4], [2, 5], [3, 6]]\n",
    "```\n",
    "- Write a program that creates a nested list of strings from a user inputted list of strings. The resulting nested list should contain each string split into its individual characters.\n",
    "```\n",
    "Example input: ['hello', 'world']\n",
    "Example output: [['h', 'e', 'l', 'l', 'o'], ['w', 'o', 'r', 'l', 'd']]\n",
    "```\n",
    "- Write a program that creates a nested list of integers from a user inputted list of integers. The resulting nested list should contain each integer along with its square.\n",
    "```\n",
    "Example input: [1, 2, 3, 4, 5]\n",
    "Example output: [[1, 1], [2, 4], [3, 9], [4, 16], [5, 25]]\n",
    "```\n",
    "- Write a program that creates a nested list from a user inputted list of strings. The resulting nested list should contain the unique characters from each string.\n",
    "```\n",
    "Example input: ['apple', 'banana', 'cherry']\n",
    "Example output: [['a', 'p', 'l', 'e'], ['b', 'a', 'n'], ['c', 'h', 'e', 'r', 'y']]\n",
    "```\n",
    "- Write a program that creates a nested list of integers from a user inputted list of integers. The resulting nested list should contain each integer along with all of its divisors.\n",
    "```\n",
    "Example input: [2, 3, 4, 5]\n",
    "Example output: [[2, [1, 2]], [3, [1, 3]], [4, [1, 2, 4]], [5, [1, 5]]]\n",
    "```\n",
    "\n",
    "---\n",
    "- You are given a list of integers, nums. Write a function, reverse_list(nums), that takes the list as input and returns a new list that is the reverse of the original list.\n",
    "**Function signature**\n",
    "```python\n",
    "def reverse_list(nums: List[int]) -> List[int]\n",
    "```\n",
    "**inputs:**\n",
    "- A list of integers, nums (1 <= len(nums) <= 1000)\n",
    "**output:**\n",
    "- A new list that is the reverse of `nums`\n",
    "\n",
    "*Example:*\n",
    "```\n",
    "Input: nums = [1, 2, 3, 4, 5]\n",
    "Output: [5, 4, 3, 2, 1]\n",
    "\n",
    "Input: nums = [7, 6, 5, 4]\n",
    "Output: [4, 5, 6, 7]\n",
    "```\n",
    "\n",
    "*Note:*\n",
    "You are not allowed to use any built-in Python functions or methods that directly reverse a list. Your function must return a new list that is the reverse of the original list using only standard Python list manipulation techniques. Your function should have a time complexity of O(n) and a space complexity of O(n).\n",
    "\n",
    "---"
   ]
  },
  {
   "cell_type": "code",
   "execution_count": 4,
   "id": "880e45a2",
   "metadata": {},
   "outputs": [
    {
     "name": "stdout",
     "output_type": "stream",
     "text": [
      "[]\n",
      "[1, 4, 9, 6, 7, 8, 6, 3, 78]\n"
     ]
    },
    {
     "data": {
      "text/plain": [
       "list"
      ]
     },
     "execution_count": 4,
     "metadata": {},
     "output_type": "execute_result"
    }
   ],
   "source": [
    "a=[]\n",
    "print(a)\n",
    "a=list(map(int,input(\"Enter the number\").split()))\n",
    "print(a)\n",
    "type(a)"
   ]
  },
  {
   "cell_type": "code",
   "execution_count": 22,
   "id": "97e99348",
   "metadata": {},
   "outputs": [
    {
     "name": "stdout",
     "output_type": "stream",
     "text": [
      "[1, 4, 8, 6, 7, 9, 4, 6]\n",
      "6 is found at index number 3 \n"
     ]
    }
   ],
   "source": [
    "a=list(map(int,input(\"Enter the number\").split()))\n",
    "print(a)\n",
    "b=int(input(\"Enter the number\"))\n",
    "if(b in a):\n",
    "    print(f\"{b} is found at index number {a.index(b)} \")   \n",
    "else:\n",
    "    print(\"Not found\")"
   ]
  },
  {
   "cell_type": "code",
   "execution_count": 22,
   "id": "59fd8d18",
   "metadata": {},
   "outputs": [
    {
     "name": "stdout",
     "output_type": "stream",
     "text": [
      "['utkarsh', 'avirat', 'dev']\n",
      "['avirat', 'dev', 'utkarsh']\n"
     ]
    }
   ],
   "source": [
    "a=input(\"Enter the strings \").split()\n",
    "print(a)\n",
    "a.sort()\n",
    "print(a)\n",
    "\n"
   ]
  },
  {
   "cell_type": "code",
   "execution_count": 27,
   "id": "53bdbf7e",
   "metadata": {},
   "outputs": [
    {
     "name": "stdout",
     "output_type": "stream",
     "text": [
      "96\n"
     ]
    }
   ],
   "source": [
    "a=list(map(int,input(\"Enter the number\").split()))\n",
    "max_num=a[0]\n",
    "i=0\n",
    "while i<len(a):\n",
    "    if(a[i]>max_num):\n",
    "        max_num=a[i]\n",
    "    i+=1\n",
    "print(max_num)        \n"
   ]
  },
  {
   "cell_type": "code",
   "execution_count": 31,
   "id": "fa566ed7",
   "metadata": {},
   "outputs": [
    {
     "name": "stdout",
     "output_type": "stream",
     "text": [
      "800\n"
     ]
    }
   ],
   "source": [
    "a=list(map(int,input(\"Enter the number\").split()))\n",
    "for i in a:\n",
    "    if(i>max_num):\n",
    "        max_num=i\n",
    "print(max_num)\n"
   ]
  },
  {
   "cell_type": "code",
   "execution_count": 33,
   "id": "4d66cc0c",
   "metadata": {},
   "outputs": [
    {
     "name": "stdout",
     "output_type": "stream",
     "text": [
      "[8, 2, 4, 6]\n"
     ]
    }
   ],
   "source": [
    "a=list(map(int,input(\"Enter the number\").split()))\n",
    "b=list(map(int,input(\"Enter the number\").split()))\n",
    "common_element=list(set(a) & set(b))\n",
    "if common_element:\n",
    "    print(common_element)\n",
    "else:\n",
    "    print(\"Not Found\")    "
   ]
  },
  {
   "cell_type": "code",
   "execution_count": 1,
   "id": "b07ba873",
   "metadata": {},
   "outputs": [
    {
     "name": "stdout",
     "output_type": "stream",
     "text": [
      "[1, 3, 5, 7, 9]\n"
     ]
    }
   ],
   "source": [
    "a=list(map(int,input(\"Enter the numbers\").split()))\n",
    "b=list(map(int,input(\"Enter the number\").split()))\n",
    "common_element=list(set(a) & set(b))\n",
    "a = [i for i in a if i not in common_element]\n",
    "b = [i for i in b if i not in common_element]\n",
    "print(a)\n",
    "\n",
    "   \n",
    "\n",
    "\n",
    "\n",
    "\n"
   ]
  },
  {
   "cell_type": "code",
   "execution_count": 18,
   "id": "a25fd8e1",
   "metadata": {},
   "outputs": [
    {
     "name": "stdout",
     "output_type": "stream",
     "text": [
      "[1, 2, 3]\n",
      "[4, 5, 6]\n",
      "[7, 8, 9]\n",
      "final nested_list=[[1, 2, 3], [4, 5, 6], [7, 8, 9]]\n",
      "9\n"
     ]
    }
   ],
   "source": [
    "nested_list=[]\n",
    "rows=int(input(\"Enter the number of rows\"))\n",
    "for i in range(rows):\n",
    "    a=list(map(int,input(f\"Enter the element of rows {i+1} \").split()))\n",
    "    nested_list.append(a)\n",
    "    print(a)\n",
    "print(f\"final nested_list={nested_list}\")  \n",
    "element=nested_list[2][2] \n",
    "print(element) \n",
    "\n"
   ]
  },
  {
   "cell_type": "code",
   "execution_count": 43,
   "id": "4d7c5e20",
   "metadata": {},
   "outputs": [
    {
     "name": "stdout",
     "output_type": "stream",
     "text": [
      "pineapple\n"
     ]
    }
   ],
   "source": [
    "a=input(\"Enter the strings using spaces\").split()\n",
    "longest_string=a[0]\n",
    "for i in a:\n",
    "    if(longest_string<i):\n",
    "        longest_string=i\n",
    "print(longest_string)\n",
    "\n",
    "\n"
   ]
  },
  {
   "cell_type": "code",
   "execution_count": 46,
   "id": "2e24b97e",
   "metadata": {},
   "outputs": [
    {
     "name": "stdout",
     "output_type": "stream",
     "text": [
      "20\n"
     ]
    }
   ],
   "source": [
    "a=list(map(int,input(\"Enter the numbers\").split()))\n",
    "even_number=0\n",
    "for i in a:\n",
    "    if(i%2==0):\n",
    "        even_number+=i\n",
    "print(even_number)        "
   ]
  },
  {
   "cell_type": "code",
   "execution_count": null,
   "id": "ef7ff265",
   "metadata": {},
   "outputs": [
    {
     "name": "stdout",
     "output_type": "stream",
     "text": [
      "[2, 4, 6, 8]\n",
      "[2, 4, 6]\n"
     ]
    }
   ],
   "source": [
    "a=list(map(int,input(\"Enter the numbers\").split()))\n",
    "print(a)\n",
    "b=int(input(\"Enter the index of number you want to remove\"))\n",
    "a=a.pop[b]\n",
    "print(a)\n",
    "\n",
    "\n",
    "\n"
   ]
  },
  {
   "cell_type": "code",
   "execution_count": 7,
   "id": "0974f064",
   "metadata": {},
   "outputs": [
    {
     "name": "stdout",
     "output_type": "stream",
     "text": [
      "3.5\n"
     ]
    }
   ],
   "source": [
    "a=list(map(int,input(\"Enter the numbers\").split()))\n",
    "a.sort()\n",
    "n=len(a)\n",
    "if(n%2==0):\n",
    "    mid1=n//2-1\n",
    "    mid2=n//2\n",
    "    median=(a[mid1]+a[mid2])/2\n",
    "else:\n",
    "    mid=n//2\n",
    "    median=a[mid]  \n",
    "\n",
    "print(median)     \n",
    "\n",
    "\n",
    "\n",
    "\n"
   ]
  },
  {
   "cell_type": "code",
   "execution_count": 15,
   "id": "2e80662e",
   "metadata": {},
   "outputs": [
    {
     "name": "stdout",
     "output_type": "stream",
     "text": [
      "hello  world  this  is  python\n"
     ]
    }
   ],
   "source": [
    "a=input(\"Enter the words\").split()\n",
    "for i in a:\n",
    "    final_string= \"  \".join(a)\n",
    "print(final_string)"
   ]
  },
  {
   "cell_type": "code",
   "execution_count": 18,
   "id": "d8a56410",
   "metadata": {},
   "outputs": [
    {
     "name": "stdout",
     "output_type": "stream",
     "text": [
      "['apple', 'banana', 'kiwi', 'pineapple', 'papaya', 'watermelon']\n",
      "['watermelon', 'papaya', 'pineapple', 'kiwi', 'banana', 'apple']\n"
     ]
    }
   ],
   "source": [
    "a=input(\"Enter the words\").split()\n",
    "print(a)\n",
    "a.reverse()\n",
    "print(a)"
   ]
  },
  {
   "cell_type": "code",
   "execution_count": 21,
   "id": "3efbe28e",
   "metadata": {},
   "outputs": [
    {
     "name": "stdout",
     "output_type": "stream",
     "text": [
      "5\n"
     ]
    }
   ],
   "source": [
    "a=list(map(int,input(\"Enter the numbers\").split()))\n",
    "average=sum(a)//len(a)\n",
    "print(average)\n",
    "\n",
    "    \n"
   ]
  },
  {
   "cell_type": "code",
   "execution_count": 25,
   "id": "45abef63",
   "metadata": {},
   "outputs": [
    {
     "name": "stdout",
     "output_type": "stream",
     "text": [
      "[1, 2, 3, 4, 5, 6, 7, 8, 9]\n",
      "3 is found at index number 2\n"
     ]
    }
   ],
   "source": [
    "a=list(map(int,input(\"Enter the numbers\").split()))\n",
    "print(a)\n",
    "b=int(input(\"Enter the number\"))\n",
    "if b in a:\n",
    "    print(f\"{b} is found at index number {a.index(b)}\")\n",
    "else:\n",
    "    print(\"Element is not present in the list\")    \n"
   ]
  },
  {
   "cell_type": "code",
   "execution_count": 26,
   "id": "62fdbfda",
   "metadata": {},
   "outputs": [
    {
     "name": "stdout",
     "output_type": "stream",
     "text": [
      "[1000, 11, 9, 8, 6, 6, 4, 2, 1]\n"
     ]
    }
   ],
   "source": [
    "a=list(map(int,input(\"Enter the numbers\").split()))\n",
    "a.sort(reverse=True)\n",
    "print(a)"
   ]
  },
  {
   "cell_type": "code",
   "execution_count": 30,
   "id": "47cec650",
   "metadata": {},
   "outputs": [
    {
     "name": "stdout",
     "output_type": "stream",
     "text": [
      "[2, 4, 6, 8]\n",
      "[1, 2, 4, 6, 8]\n"
     ]
    }
   ],
   "source": [
    "a=list(map(int,input(\"Enter the numbers\").split()))\n",
    "print(a)\n",
    "b=int(input(\"Enter the number\"))\n",
    "a.insert(0,b)\n",
    "print(a)"
   ]
  },
  {
   "cell_type": "code",
   "execution_count": null,
   "id": "c41a45ed",
   "metadata": {},
   "outputs": [
    {
     "name": "stdout",
     "output_type": "stream",
     "text": [
      "['apple', 'banana', 'potato', 'tomato']\n",
      "['apple', 'banana', 'potato', 'tomato']\n"
     ]
    }
   ],
   "source": [
    "a=input(\"Enter the words\").split()\n",
    "b=input(\"Enter the words\").split()\n",
    "c=a+b\n",
    "print(c)\n"
   ]
  },
  {
   "cell_type": "markdown",
   "id": "a462fa01",
   "metadata": {},
   "source": [
    "without lamda function"
   ]
  },
  {
   "cell_type": "code",
   "execution_count": 1,
   "id": "c8c495e5",
   "metadata": {},
   "outputs": [
    {
     "name": "stdout",
     "output_type": "stream",
     "text": [
      "[1, 4, 9, 16, 25]\n"
     ]
    }
   ],
   "source": [
    "a=list(map(int,input(\"Enter the numbers\").split()))\n",
    "square_list=[]\n",
    "for i in a:\n",
    "    square=i*i\n",
    "    square_list.append(square)\n",
    "print(square_list)       "
   ]
  },
  {
   "cell_type": "markdown",
   "id": "bc376f7a",
   "metadata": {},
   "source": [
    "with lamda function\n"
   ]
  },
  {
   "cell_type": "code",
   "execution_count": 4,
   "id": "d7336557",
   "metadata": {},
   "outputs": [
    {
     "name": "stdout",
     "output_type": "stream",
     "text": [
      "[9]\n"
     ]
    }
   ],
   "source": [
    "a=list(map(int,input(\"Enter the numbers\").split()))\n",
    "square_list=list(map(lambda x:x*x,a))\n",
    "print(square_list)\n",
    "\n",
    "    "
   ]
  },
  {
   "cell_type": "markdown",
   "id": "15120c74",
   "metadata": {},
   "source": [
    "With lambda function"
   ]
  },
  {
   "cell_type": "code",
   "execution_count": null,
   "id": "77df7c31",
   "metadata": {},
   "outputs": [
    {
     "name": "stdout",
     "output_type": "stream",
     "text": [
      "['a', 'b', 'c']\n"
     ]
    }
   ],
   "source": [
    "a=input(\"Enter the words\").split()\n",
    "first_letter=list(map(lambda a:a[0],a))\n",
    "print(first_letter)"
   ]
  },
  {
   "cell_type": "markdown",
   "id": "0637b14e",
   "metadata": {},
   "source": [
    "Without lambda function"
   ]
  },
  {
   "cell_type": "code",
   "execution_count": 7,
   "id": "5175db55",
   "metadata": {},
   "outputs": [
    {
     "name": "stdout",
     "output_type": "stream",
     "text": [
      "a\n",
      "c\n",
      "b\n",
      "p\n"
     ]
    }
   ],
   "source": [
    "a=input(\"Enter the words\").split()\n",
    "for i in a:\n",
    "    i=i[0]\n",
    "    print(i)\n"
   ]
  },
  {
   "cell_type": "code",
   "execution_count": 10,
   "id": "772dfc8c",
   "metadata": {},
   "outputs": [
    {
     "name": "stdout",
     "output_type": "stream",
     "text": [
      "[1, 2, 3, 4, 5, 6]\n",
      "['1', '2', '3', '4', '5', '6']\n"
     ]
    },
    {
     "data": {
      "text/plain": [
       "list"
      ]
     },
     "execution_count": 10,
     "metadata": {},
     "output_type": "execute_result"
    }
   ],
   "source": [
    "a=list(map(int,input(\"Enter the numbers\").split()))\n",
    "print(a)\n",
    "int_to_float=list(map(lambda a:str(a),a))\n",
    "print(int_to_float)\n",
    "type(int_to_float)"
   ]
  },
  {
   "cell_type": "code",
   "execution_count": 12,
   "id": "b89377ce",
   "metadata": {},
   "outputs": [
    {
     "name": "stdout",
     "output_type": "stream",
     "text": [
      "[1, 2, 3, 7, 8, 9, 4, 5, 6]\n",
      "[11, 12, 13, 17, 18, 19, 14, 15, 16]\n"
     ]
    }
   ],
   "source": [
    "a=list(map(int,input(\"Enter the numbers\").split()))\n",
    "print(a)\n",
    "improvised_list=list(map(lambda a:a+10,a))\n",
    "print(improvised_list)"
   ]
  },
  {
   "cell_type": "code",
   "execution_count": 14,
   "id": "eeb25dde",
   "metadata": {},
   "outputs": [
    {
     "name": "stdout",
     "output_type": "stream",
     "text": [
      "['1', '3', '5', '3', '5', '68', '5', '2']\n",
      "[1, 3, 5, 3, 5, 68, 5, 2]\n"
     ]
    }
   ],
   "source": [
    "a=input(\"Enter the words\").split()\n",
    "print(a)\n",
    "str_to_int=list(map(lambda a:int(a),a))\n",
    "print(str_to_int)"
   ]
  },
  {
   "cell_type": "code",
   "execution_count": 16,
   "id": "63163b71",
   "metadata": {},
   "outputs": [
    {
     "name": "stdout",
     "output_type": "stream",
     "text": [
      "['apple', 'banana', 'cherry']\n",
      "[5, 6, 6]\n"
     ]
    }
   ],
   "source": [
    "a=input(\"Enter the words\").split()\n",
    "print(a)\n",
    "b=list(map(lambda a:len(a),a))\n",
    "print(b)\n"
   ]
  },
  {
   "cell_type": "code",
   "execution_count": null,
   "id": "971f3b6a",
   "metadata": {},
   "outputs": [
    {
     "name": "stdout",
     "output_type": "stream",
     "text": [
      "[1.0]\n"
     ]
    }
   ],
   "source": [
    "a=list(map(int,input(\"Enter the numbers\").split()))\n",
    "square_root=list(map(lambda a:a**0.5,a))\n",
    "print(square_root)"
   ]
  },
  {
   "cell_type": "code",
   "execution_count": 32,
   "id": "6f8c2e53",
   "metadata": {},
   "outputs": [
    {
     "name": "stdout",
     "output_type": "stream",
     "text": [
      "[212.0, 213.8, 1868.0, 217.4]\n"
     ]
    }
   ],
   "source": [
    "a=list(map(int,input(\"Enter the numbers\").split()))\n",
    "b=list(map(lambda a:1.8*a+32,a))\n",
    "print(b)"
   ]
  },
  {
   "cell_type": "code",
   "execution_count": 38,
   "id": "83e437e0",
   "metadata": {},
   "outputs": [
    {
     "name": "stdout",
     "output_type": "stream",
     "text": [
      "[5, 9, 5]\n"
     ]
    }
   ],
   "source": [
    "a=list(map(int,input(\"Enter the numbers\").split()))\n",
    "b=list(map(lambda a:abs(a),a))\n",
    "print(b)\n"
   ]
  },
  {
   "cell_type": "code",
   "execution_count": 50,
   "id": "2af011b8",
   "metadata": {},
   "outputs": [
    {
     "name": "stdout",
     "output_type": "stream",
     "text": [
      "[\"['AVIRAT',\", \"'DEV',\", \"'UTKARSH\"]\n"
     ]
    }
   ],
   "source": [
    "a=input(\"Enter the words\").split()\n",
    "b=list(map(lambda a:a.upper(),a))\n",
    "print(b)"
   ]
  },
  {
   "cell_type": "code",
   "execution_count": 43,
   "id": "44747649",
   "metadata": {},
   "outputs": [
    {
     "name": "stdout",
     "output_type": "stream",
     "text": [
      "[1, 2, 3, 4, 5, 6, 7, 8, 9]\n",
      "[2, 4, 6, 8]\n"
     ]
    }
   ],
   "source": [
    "a=list(map(int,input(\"Enter the numbers\").split()))\n",
    "print(a)\n",
    "b=[]\n",
    "for i in a:\n",
    "    if(i%2==0):\n",
    "        b.append(i)\n",
    "print(b)        "
   ]
  },
  {
   "cell_type": "code",
   "execution_count": 48,
   "id": "da9a0caf",
   "metadata": {},
   "outputs": [
    {
     "name": "stdout",
     "output_type": "stream",
     "text": [
      "['apple', 'banana', 'cherry', 'elephant', 'fanta', 'egg']\n",
      "['apple', 'elephant', 'egg']\n"
     ]
    }
   ],
   "source": [
    "a=input(\"Enter the words\").split()\n",
    "print(a)\n",
    "c=list(filter(lambda a:a[0] in (\"a\",\"e\",\"i\",\"o\",\"u\"),a))\n",
    "print(c)"
   ]
  },
  {
   "cell_type": "code",
   "execution_count": 52,
   "id": "73de6ba0",
   "metadata": {},
   "outputs": [
    {
     "name": "stdout",
     "output_type": "stream",
     "text": [
      "['apple', 'banana', 'cherry', 'egg', 'jelly', 'cat', 'dog']\n",
      "['apple', 'banana', 'cherry', 'jelly']\n"
     ]
    }
   ],
   "source": [
    "a=input(\"Enter the words\").split()\n",
    "print(a)\n",
    "b=list(filter(lambda a:len(a)>=5,a))\n",
    "print(b)\n"
   ]
  },
  {
   "cell_type": "code",
   "execution_count": 53,
   "id": "5bda6e95",
   "metadata": {},
   "outputs": [
    {
     "name": "stdout",
     "output_type": "stream",
     "text": [
      "[12, -12, 4, -9, -36, -10, 65, 78]\n",
      "[12, 4, 65, 78]\n"
     ]
    }
   ],
   "source": [
    "a=list(map(int,input(\"Enter the numbers\").split()))\n",
    "print(a)\n",
    "b=list(filter(lambda a:a>0,a))\n",
    "print(b)"
   ]
  },
  {
   "cell_type": "code",
   "execution_count": 9,
   "id": "7e07f617",
   "metadata": {},
   "outputs": [
    {
     "name": "stdout",
     "output_type": "stream",
     "text": [
      "['apple']\n"
     ]
    }
   ],
   "source": [
    "a=input(\"Enter the words\").split()\n",
    "a=list(filter(lambda i:\"e\" in i,a))\n",
    "print(a)\n",
    "   "
   ]
  },
  {
   "cell_type": "code",
   "execution_count": null,
   "id": "a48ce5b9",
   "metadata": {},
   "outputs": [
    {
     "name": "stdout",
     "output_type": "stream",
     "text": [
      "[1, 2, 3, 4, 5, 6] [4, 5, 6, 7, 8, 9]\n",
      "[[1, 4], [2, 5], [3, 6], [4, 7], [5, 8], [6, 9]]\n"
     ]
    }
   ],
   "source": [
    "list1 = list(map(int, input(\"Enter the elements of the first list separated by space: \").split()))\n",
    "list2 = list(map(int, input(\"Enter the elements of the first list separated by space: \").split()))\n",
    "print(list1,list2)\n",
    "if(len(list1)!=len(list2)):\n",
    "    print(\"Rows is not equal\")\n",
    "else:\n",
    "    nested_list=[[list1[i],list2[i]] for i in range(len(list1))]\n",
    "    print(nested_list)    \n",
    "    \n"
   ]
  },
  {
   "cell_type": "code",
   "execution_count": 29,
   "id": "42b2727f",
   "metadata": {},
   "outputs": [
    {
     "name": "stdout",
     "output_type": "stream",
     "text": [
      "[['h', 'e', 'l', 'l', 'o'], ['w', 'o', 'r', 'l', 'd']]\n"
     ]
    },
    {
     "data": {
      "text/plain": [
       "list"
      ]
     },
     "execution_count": 29,
     "metadata": {},
     "output_type": "execute_result"
    }
   ],
   "source": [
    "a=input(\"Enter the words\").split()\n",
    "nested_list=[list(i) for i in a ]\n",
    "print(nested_list)\n",
    "type(nested_list)"
   ]
  },
  {
   "cell_type": "code",
   "execution_count": null,
   "id": "d5d64a8c",
   "metadata": {},
   "outputs": [
    {
     "name": "stdout",
     "output_type": "stream",
     "text": [
      "[list[1, 1], list[4, 16], list[9, 81], list[6, 36]]\n"
     ]
    }
   ],
   "source": [
    "list1 = list(map(int, input(\"Enter the elements of the first list separated by space: \").split()))\n",
    "nested_list=[[i,i**2] for i in list1]\n",
    "print(nested_list)"
   ]
  },
  {
   "cell_type": "code",
   "execution_count": 33,
   "id": "f7f216da",
   "metadata": {},
   "outputs": [
    {
     "name": "stdout",
     "output_type": "stream",
     "text": [
      "[[{'l', 'e', 'a', 'p'}, {'n', 'b', 'a'}, {'c', 'h', 'e', 'y', 'r'}]]\n"
     ]
    }
   ],
   "source": [
    "a=input(\"Enter the words\").split()\n",
    "nested_list=[list(set(i) for i in a)]\n",
    "print(nested_list)\n"
   ]
  },
  {
   "cell_type": "code",
   "execution_count": 38,
   "id": "58c8c904",
   "metadata": {},
   "outputs": [],
   "source": [
    "import math as m "
   ]
  },
  {
   "cell_type": "code",
   "execution_count": 54,
   "id": "56557db4",
   "metadata": {},
   "outputs": [
    {
     "name": "stdout",
     "output_type": "stream",
     "text": [
      "['087', '41', 'banana', 'apple']\n"
     ]
    }
   ],
   "source": [
    "a = input(\"Enter the elements of the first list separated by space: \").split()\n",
    "a.reverse()\n",
    "print(a)\n",
    "    \n"
   ]
  }
 ],
 "metadata": {
  "kernelspec": {
   "display_name": "base",
   "language": "python",
   "name": "python3"
  },
  "language_info": {
   "codemirror_mode": {
    "name": "ipython",
    "version": 3
   },
   "file_extension": ".py",
   "mimetype": "text/x-python",
   "name": "python",
   "nbconvert_exporter": "python",
   "pygments_lexer": "ipython3",
   "version": "3.12.9"
  }
 },
 "nbformat": 4,
 "nbformat_minor": 5
}
