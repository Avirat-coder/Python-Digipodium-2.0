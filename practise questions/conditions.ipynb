{
 "cells": [
  {
   "cell_type": "markdown",
   "id": "9c7680b2",
   "metadata": {},
   "source": [
    " - Check whether a number is positive or not\n",
    " - check whether a number is even or odd\n",
    " - check whether two line segments are equal or not\n",
    " - check whether a character entered  by user is vowel or not\n",
    " - calculate the area of circle\n",
    " - check whether triangle is isosceles,equilateral and scalene\n",
    " - calculate the basic salary of an employee where basic salary is 50,000 , HRA is 5% of basic salary and TDA is 10% of bs"
   ]
  },
  {
   "cell_type": "code",
   "execution_count": 7,
   "id": "6af9eac8",
   "metadata": {},
   "outputs": [
    {
     "name": "stdout",
     "output_type": "stream",
     "text": [
      "Number is positive\n"
     ]
    }
   ],
   "source": [
    "a=int(input(\"Enter the number\"))\n",
    "if(a>0):\n",
    "    print(\"Number is positive\")\n",
    "else:\n",
    "    print(\"Number is negaive\")    "
   ]
  },
  {
   "cell_type": "code",
   "execution_count": null,
   "id": "e8606cfa",
   "metadata": {},
   "outputs": [],
   "source": [
    "a=int(input(\"Enter the number\"))\n",
    "if(a%2==0):\n",
    "    print(\"Number is even\")\n",
    "else:\n",
    "    print(\"Number is odd\") "
   ]
  },
  {
   "cell_type": "code",
   "execution_count": 9,
   "id": "091525ad",
   "metadata": {},
   "outputs": [
    {
     "name": "stdout",
     "output_type": "stream",
     "text": [
      "Not equal\n"
     ]
    }
   ],
   "source": [
    "a=int(input(\"Enter the value of first line segment 1\"))\n",
    "b=int(input(\"Enter the value of first line segment 2\"))\n",
    "if(a==b):\n",
    "    print(\"These two are equals\")\n",
    "else:\n",
    "    print(\"Not equal\")    "
   ]
  },
  {
   "cell_type": "code",
   "execution_count": 20,
   "id": "58556672",
   "metadata": {},
   "outputs": [
    {
     "name": "stdout",
     "output_type": "stream",
     "text": [
      "k is not vowel\n"
     ]
    }
   ],
   "source": [
    "a=input(\"Enter the word\")\n",
    "if a in ('a' , 'e' , 'i' , 'o' , 'u' ):\n",
    "    print(f\"{a} is a vowel\")\n",
    "else:\n",
    "    print(f\"{a} is not vowel\")"
   ]
  },
  {
   "cell_type": "code",
   "execution_count": 23,
   "id": "609713e5",
   "metadata": {},
   "outputs": [
    {
     "name": "stdout",
     "output_type": "stream",
     "text": [
      "12.56\n"
     ]
    }
   ],
   "source": [
    "a=int(input(\"Enter the radius of a circle\"))\n",
    "area=3.14*a**2\n",
    "print(area)"
   ]
  },
  {
   "cell_type": "code",
   "execution_count": 9,
   "id": "9cea63b6",
   "metadata": {},
   "outputs": [
    {
     "name": "stdout",
     "output_type": "stream",
     "text": [
      "Triangle is isosceles\n"
     ]
    }
   ],
   "source": [
    "a=int(input(\"Enter first side of the traingle\"))\n",
    "b=int(input(\"Enter second side of the traingle\"))\n",
    "c=int(input(\"Enter third side of the traingle\"))\n",
    "if(a==b and b==c and  a==c):\n",
    "    print(\"Traingle is equilateral\")\n",
    "elif(a==b or  b==c or a==c):\n",
    "    print(\"Triangle is isosceles\")\n",
    "else:\n",
    "    print(\"Triangle is scalene\")    \n",
    "\n"
   ]
  },
  {
   "cell_type": "code",
   "execution_count": 11,
   "id": "b8944138",
   "metadata": {},
   "outputs": [
    {
     "name": "stdout",
     "output_type": "stream",
     "text": [
      "Gross Salary 57500.0\n"
     ]
    }
   ],
   "source": [
    "bs=50000\n",
    "hra=0.05*bs\n",
    "tda=0.1*bs\n",
    "ctc=bs+(hra+tda)\n",
    "print(\"Gross Salary\",ctc)"
   ]
  },
  {
   "cell_type": "code",
   "execution_count": null,
   "id": "d929de76",
   "metadata": {},
   "outputs": [],
   "source": []
  }
 ],
 "metadata": {
  "kernelspec": {
   "display_name": "base",
   "language": "python",
   "name": "python3"
  },
  "language_info": {
   "codemirror_mode": {
    "name": "ipython",
    "version": 3
   },
   "file_extension": ".py",
   "mimetype": "text/x-python",
   "name": "python",
   "nbconvert_exporter": "python",
   "pygments_lexer": "ipython3",
   "version": "3.12.9"
  }
 },
 "nbformat": 4,
 "nbformat_minor": 5
}
