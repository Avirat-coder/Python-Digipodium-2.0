{
 "cells": [
  {
   "cell_type": "code",
   "execution_count": 6,
   "id": "c75b2b19",
   "metadata": {},
   "outputs": [
    {
     "name": "stdout",
     "output_type": "stream",
     "text": [
      "Grade B\n"
     ]
    }
   ],
   "source": [
    "marks=int(input(\"Enter marks\"))\n",
    "if marks >=90:\n",
    "    print(\"Grade A+\")\n",
    "if marks >=80:\n",
    "    print(\"Grade A\")\n",
    "if marks >=60: \n",
    "    print(\"Grade B\")   \n",
    "if marks<=60:\n",
    "    print(\"Fail\")       "
   ]
  },
  {
   "cell_type": "code",
   "execution_count": 7,
   "id": "0b826406",
   "metadata": {},
   "outputs": [
    {
     "name": "stdout",
     "output_type": "stream",
     "text": [
      "Grade C\n"
     ]
    }
   ],
   "source": [
    "marks=int(input(\"Enter marks\"))\n",
    "if marks >=90:\n",
    "    print(\"Grade A\")\n",
    "elif marks >=80:\n",
    "    print(\"Grade B\")\n",
    "elif marks >=60: \n",
    "    print(\"Grade C\")   \n",
    "elif marks<=60 and marks>0:\n",
    "    print(\"Fail\") \n",
    "else:\n",
    "    print(\"Invalid Marks\")    "
   ]
  },
  {
   "cell_type": "markdown",
   "id": "9559f5aa",
   "metadata": {},
   "source": [
    "# Nested IF\n"
   ]
  },
  {
   "cell_type": "code",
   "execution_count": null,
   "id": "4c731c58",
   "metadata": {},
   "outputs": [
    {
     "name": "stdout",
     "output_type": "stream",
     "text": [
      "Hurray You Are successfully Registered\n"
     ]
    }
   ],
   "source": [
    "username = input(\"Enter username: \")\n",
    "email=input(\"Enter Your Email\")\n",
    "password=input(\"Enter Your Password\")\n",
    "cpassword=input(\"Enter Your Password\")\n",
    "if len(username)>=5 and len(username)<=15:\n",
    "    if len(email)>=10 and '@' in email:\n",
    "        if password==cpassword:\n",
    "            print(\"Hurray You Are successfully Registered\")\n",
    "        else:\n",
    "            print(\"Password did not match\")\n",
    "    else:\n",
    "        print(\"Invalid Email\")\n",
    "else:\n",
    "    print(\"Invalid Username\")\n"
   ]
  },
  {
   "cell_type": "code",
   "execution_count": null,
   "id": "a113cb3f",
   "metadata": {},
   "outputs": [],
   "source": []
  }
 ],
 "metadata": {
  "kernelspec": {
   "display_name": "Python 3",
   "language": "python",
   "name": "python3"
  },
  "language_info": {
   "codemirror_mode": {
    "name": "ipython",
    "version": 3
   },
   "file_extension": ".py",
   "mimetype": "text/x-python",
   "name": "python",
   "nbconvert_exporter": "python",
   "pygments_lexer": "ipython3",
   "version": "3.12.9"
  }
 },
 "nbformat": 4,
 "nbformat_minor": 5
}
