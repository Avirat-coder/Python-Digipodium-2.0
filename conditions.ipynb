{
 "cells": [
  {
   "cell_type": "code",
   "execution_count": 12,
   "id": "c75b2b19",
   "metadata": {},
   "outputs": [
    {
     "name": "stdout",
     "output_type": "stream",
     "text": [
      "Grade A+\n",
      "Grade A\n",
      "Grade B\n"
     ]
    }
   ],
   "source": [
    "marks=int(input(\"Enter marks\"))\n",
    "if marks >=90:\n",
    "    print(\"Grade A+\")\n",
    "if marks >=80:\n",
    "    print(\"Grade A\")\n",
    "if marks >=60: \n",
    "    print(\"Grade B\")   \n",
    "if marks<=60:\n",
    "    print(\"Fail\")       "
   ]
  },
  {
   "cell_type": "code",
   "execution_count": 15,
   "id": "0b826406",
   "metadata": {},
   "outputs": [
    {
     "name": "stdout",
     "output_type": "stream",
     "text": [
      "Invalid Marks\n"
     ]
    }
   ],
   "source": [
    "marks=int(input(\"Enter marks\"))\n",
    "if marks >=90:\n",
    "    print(\"Grade A\")\n",
    "elif marks >=80:\n",
    "    print(\"Grade B\")\n",
    "elif marks >=60: \n",
    "    print(\"Grade C\")   \n",
    "elif marks<=60 and marks>0:\n",
    "    print(\"Fail\") \n",
    "else:\n",
    "    print(\"Invalid Marks\")    "
   ]
  },
  {
   "cell_type": "markdown",
   "id": "4ea7237b",
   "metadata": {},
   "source": [
    " - Check whether a number is positive or not\n",
    " - check whether a number is even or odd\n",
    " - check whether two line segments are equal or not\n",
    " - check whether a character entered  by user is vowel or not\n",
    " - calculate the area of circle\n",
    " - check whether triangle is isosceles,equilateral and scalene\n",
    " - calculate the basic salary of an employee where basic salary is 50,000 , HRA is 5% of basic salary and TDA is 10% of bs\n",
    " "
   ]
  }
 ],
 "metadata": {
  "kernelspec": {
   "display_name": "base",
   "language": "python",
   "name": "python3"
  },
  "language_info": {
   "codemirror_mode": {
    "name": "ipython",
    "version": 3
   },
   "file_extension": ".py",
   "mimetype": "text/x-python",
   "name": "python",
   "nbconvert_exporter": "python",
   "pygments_lexer": "ipython3",
   "version": "3.12.9"
  }
 },
 "nbformat": 4,
 "nbformat_minor": 5
}
